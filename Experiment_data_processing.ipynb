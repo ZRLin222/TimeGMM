{
 "cells": [
  {
   "cell_type": "code",
   "execution_count": 50,
   "metadata": {},
   "outputs": [],
   "source": [
    "%reset"
   ]
  },
  {
   "cell_type": "code",
   "execution_count": 51,
   "metadata": {},
   "outputs": [],
   "source": [
    "import os\n",
    "import numpy as np\n",
    "import pandas as pd"
   ]
  },
  {
   "cell_type": "code",
   "execution_count": 52,
   "metadata": {},
   "outputs": [],
   "source": [
    "path = 'C:\\\\Users\\\\User\\\\Desktop\\\\master thesis\\\\Experiment\\\\Tgmm_slic\\\\RedSea\\\\New\\\\'\n",
    "name_ConsTime60 = os.listdir(path+'60')\n",
    "name_ConsTime30 = os.listdir(path+'30')\n",
    "name_ConsTime20 = os.listdir(path+'20')"
   ]
  },
  {
   "cell_type": "code",
   "execution_count": 53,
   "metadata": {},
   "outputs": [],
   "source": [
    "name = []\n",
    "for n60 in name_ConsTime60:\n",
    "    name.append(n60)\n",
    "for n30 in name_ConsTime30:\n",
    "    name.append(n30)\n",
    "for n20 in name_ConsTime20:\n",
    "    name.append(n20)"
   ]
  },
  {
   "cell_type": "code",
   "execution_count": 186,
   "metadata": {},
   "outputs": [
    {
     "data": {
      "text/plain": [
       "'Air_ta_x160_y320_NumOfEns60_Timesteps150_ConsTimes75_NumOfComps7_SLIC_1024_100_7'"
      ]
     },
     "execution_count": 186,
     "metadata": {},
     "output_type": "execute_result"
    }
   ],
   "source": [
    "name_ConsTime75[38]"
   ]
  },
  {
   "cell_type": "code",
   "execution_count": 191,
   "metadata": {},
   "outputs": [],
   "source": [
    "test_floder_path = os.path.join((path+'75'),name_ConsTime75[36])"
   ]
  },
  {
   "cell_type": "code",
   "execution_count": 192,
   "metadata": {},
   "outputs": [],
   "source": [
    "error_path = os.path.join(test_floder_path, 'timesteps150_error.bin')\n",
    "test_error = np.fromfile(error_path, dtype=np.float32)"
   ]
  },
  {
   "cell_type": "code",
   "execution_count": 4,
   "metadata": {},
   "outputs": [
    {
     "data": {
      "text/plain": [
       "156"
      ]
     },
     "execution_count": 4,
     "metadata": {},
     "output_type": "execute_result"
    }
   ],
   "source": [
    "len(name)"
   ]
  },
  {
   "cell_type": "code",
   "execution_count": 141,
   "metadata": {},
   "outputs": [],
   "source": [
    "a = []\n",
    "file_path = os.path.join(test_floder_path, 'storage_time_range_0_75.txt')\n",
    "f = open(file_path, 'r')\n",
    "lines = f.readlines()\n",
    "f.close()"
   ]
  },
  {
   "cell_type": "code",
   "execution_count": 142,
   "metadata": {},
   "outputs": [
    {
     "data": {
      "text/plain": [
       "['Number of total GMM:  100564\\n',\n",
       " 'Number of share GMM:  9316\\n',\n",
       " 'Numbere of nonshare GMM:  91248\\n',\n",
       " 'Total number of bins:  468550\\n',\n",
       " 'Storage:  4.955168 MB\\n']"
      ]
     },
     "execution_count": 142,
     "metadata": {},
     "output_type": "execute_result"
    }
   ],
   "source": [
    "lines"
   ]
  },
  {
   "cell_type": "code",
   "execution_count": 145,
   "metadata": {},
   "outputs": [],
   "source": [
    "a = lines[-1].split()[1]"
   ]
  },
  {
   "cell_type": "code",
   "execution_count": 146,
   "metadata": {},
   "outputs": [
    {
     "data": {
      "text/plain": [
       "'4.955168'"
      ]
     },
     "execution_count": 146,
     "metadata": {},
     "output_type": "execute_result"
    }
   ],
   "source": [
    "a"
   ]
  },
  {
   "cell_type": "code",
   "execution_count": 54,
   "metadata": {},
   "outputs": [
    {
     "name": "stdout",
     "output_type": "stream",
     "text": [
      "Redsea_NumOfEns50_Timesteps60_ConsTimes60_NumOfComps1_NonSLIC\n",
      "storage:  35.31118\n",
      "Redsea_NumOfEns50_Timesteps60_ConsTimes60_NumOfComps1_SLIC_1024_50_3\n",
      "storage:  21.556084\n",
      "Redsea_NumOfEns50_Timesteps60_ConsTimes60_NumOfComps1_SLIC_1024_50_5\n",
      "storage:  18.269428\n",
      "Redsea_NumOfEns50_Timesteps60_ConsTimes60_NumOfComps1_SLIC_1024_50_7\n",
      "storage:  16.780948\n",
      "Redsea_NumOfEns50_Timesteps60_ConsTimes60_NumOfComps1_SLIC_1024_50_9\n",
      "storage:  16.089184\n",
      "Redsea_NumOfEns50_Timesteps60_ConsTimes60_NumOfComps3_NonSLIC\n",
      "storage:  77.684596\n",
      "Redsea_NumOfEns50_Timesteps60_ConsTimes60_NumOfComps3_SLIC_1024_50_3\n",
      "storage:  36.419308\n",
      "Redsea_NumOfEns50_Timesteps60_ConsTimes60_NumOfComps3_SLIC_1024_50_5\n",
      "storage:  26.55934\n",
      "Redsea_NumOfEns50_Timesteps60_ConsTimes60_NumOfComps3_SLIC_1024_50_7\n",
      "storage:  22.0939\n",
      "Redsea_NumOfEns50_Timesteps60_ConsTimes60_NumOfComps3_SLIC_1024_50_9\n",
      "storage:  20.018608\n",
      "Redsea_NumOfEns50_Timesteps60_ConsTimes60_NumOfComps5_NonSLIC\n",
      "storage:  120.058012\n",
      "Redsea_NumOfEns50_Timesteps60_ConsTimes60_NumOfComps5_SLIC_1024_50_3\n",
      "storage:  51.282532\n",
      "Redsea_NumOfEns50_Timesteps60_ConsTimes60_NumOfComps5_SLIC_1024_50_5\n",
      "storage:  34.849252\n",
      "Redsea_NumOfEns50_Timesteps60_ConsTimes60_NumOfComps5_SLIC_1024_50_7\n",
      "storage:  27.406852\n",
      "Redsea_NumOfEns50_Timesteps60_ConsTimes60_NumOfComps5_SLIC_1024_50_9\n",
      "storage:  23.948032\n",
      "Redsea_NumOfEns50_Timesteps60_ConsTimes60_NumOfComps7_NonSLIC\n",
      "storage:  162.431428\n",
      "Redsea_NumOfEns50_Timesteps60_ConsTimes60_NumOfComps7_SLIC_1024_50_3\n",
      "storage:  66.145756\n",
      "Redsea_NumOfEns50_Timesteps60_ConsTimes60_NumOfComps7_SLIC_1024_50_5\n",
      "storage:  43.139164\n",
      "Redsea_NumOfEns50_Timesteps60_ConsTimes60_NumOfComps7_SLIC_1024_50_7\n",
      "storage:  32.719804\n",
      "Redsea_NumOfEns50_Timesteps60_ConsTimes60_NumOfComps7_SLIC_1024_50_9\n",
      "storage:  27.877456\n"
     ]
    }
   ],
   "source": [
    "Raw_storage = 777.199\n",
    "compression_ratio = []\n",
    "reduction_rate = []\n",
    "storage_data = []\n",
    "RMSE_data = []\n",
    "time_data = []\n",
    "\n",
    "for floder in name_ConsTime60:\n",
    "    print(floder)\n",
    "    floder_path = os.path.join((path+'60'),floder)\n",
    "    storage_path = os.path.join(floder_path, 'storage_time_range_0_60.txt')\n",
    "    storage_file = open(storage_path, 'r')\n",
    "    storage_lines = storage_file.readlines()\n",
    "    storage = float(storage_lines[-1].split(' ')[2])\n",
    "    print('storage: ', storage)\n",
    "    storage_data.append(storage)\n",
    "    storage_file.close\n",
    "    RMSE_path = os.path.join(floder_path, 'RMSE.txt')\n",
    "    RMSE_file = open(RMSE_path, 'r')\n",
    "    RMSE_lines = RMSE_file.readlines()\n",
    "    Rmse = float(RMSE_lines[0].split()[1])\n",
    "    RMSE_data.append(Rmse)\n",
    "    RMSE_file.close()\n",
    "    time_path = os.path.join(floder_path, 'time_0_60.txt')\n",
    "    time_file = open(time_path, 'r')\n",
    "    time_lines = time_file.readlines()\n",
    "    execution_time = float(time_lines[-1].split()[2])\n",
    "    time_data.append(execution_time)\n",
    "    time_file.close()\n",
    "    compression_ratio.append(Raw_storage / storage)\n",
    "    reduction_rate.append((1-(storage / Raw_storage))*100)"
   ]
  },
  {
   "cell_type": "code",
   "execution_count": 55,
   "metadata": {},
   "outputs": [
    {
     "name": "stdout",
     "output_type": "stream",
     "text": [
      "Redsea_NumOfEns50_Timesteps60_ConsTimes30_NumOfComps1_SLIC_1024_50_3\n",
      "storage:  31.246888\n",
      "Redsea_NumOfEns50_Timesteps60_ConsTimes30_NumOfComps1_SLIC_1024_50_5\n",
      "storage:  28.042516\n",
      "Redsea_NumOfEns50_Timesteps60_ConsTimes30_NumOfComps1_SLIC_1024_50_7\n",
      "storage:  27.056704\n",
      "Redsea_NumOfEns50_Timesteps60_ConsTimes30_NumOfComps1_SLIC_1024_50_9\n",
      "storage:  26.662984\n",
      "Redsea_NumOfEns50_Timesteps60_ConsTimes30_NumOfComps3_SLIC_1024_50_3\n",
      "storage:  44.87068\n",
      "Redsea_NumOfEns50_Timesteps60_ConsTimes30_NumOfComps3_SLIC_1024_50_5\n",
      "storage:  35.257564\n",
      "Redsea_NumOfEns50_Timesteps60_ConsTimes30_NumOfComps3_SLIC_1024_50_7\n",
      "storage:  32.300128\n",
      "Redsea_NumOfEns50_Timesteps60_ConsTimes30_NumOfComps3_SLIC_1024_50_9\n",
      "storage:  31.118968000000002\n",
      "Redsea_NumOfEns50_Timesteps60_ConsTimes30_NumOfComps5_SLIC_1024_50_3\n",
      "storage:  58.494472\n",
      "Redsea_NumOfEns50_Timesteps60_ConsTimes30_NumOfComps5_SLIC_1024_50_5\n",
      "storage:  42.472612\n",
      "Redsea_NumOfEns50_Timesteps60_ConsTimes30_NumOfComps5_SLIC_1024_50_7\n",
      "storage:  37.543552\n",
      "Redsea_NumOfEns50_Timesteps60_ConsTimes30_NumOfComps5_SLIC_1024_50_9\n",
      "storage:  35.574951999999996\n",
      "Redsea_NumOfEns50_Timesteps60_ConsTimes30_NumOfComps7_SLIC_1024_50_3\n",
      "storage:  72.118264\n",
      "Redsea_NumOfEns50_Timesteps60_ConsTimes30_NumOfComps7_SLIC_1024_50_5\n",
      "storage:  49.68766\n",
      "Redsea_NumOfEns50_Timesteps60_ConsTimes30_NumOfComps7_SLIC_1024_50_7\n",
      "storage:  42.786975999999996\n",
      "Redsea_NumOfEns50_Timesteps60_ConsTimes30_NumOfComps7_SLIC_1024_50_9\n",
      "storage:  40.030936\n"
     ]
    }
   ],
   "source": [
    "for floder100 in name_ConsTime30:\n",
    "    print(floder100)\n",
    "    floder_path = os.path.join((path+'30'),floder100)\n",
    "    storage75_path = os.path.join(floder_path, 'storage_time_range_0_30.txt')\n",
    "    storage75_file = open(storage75_path, 'r')\n",
    "    storage75_lines = storage75_file.readlines()\n",
    "    storage75 = float(storage75_lines[-1].split()[1])\n",
    "    storage150_path = os.path.join(floder_path, 'storage_time_range_30_60.txt')\n",
    "    storage150_file = open(storage150_path, 'r')\n",
    "    storage150_lines = storage150_file.readlines()\n",
    "    storage150 = float(storage150_lines[-1].split()[1])\n",
    "    storage = storage75+storage150\n",
    "    print('storage: ', storage)\n",
    "    storage_data.append(storage) \n",
    "    storage150_file.close()\n",
    "    storage75_file.close()\n",
    "    RMSE_path = os.path.join(floder_path, 'RMSE.txt')\n",
    "    RMSE_file = open(RMSE_path, 'r')\n",
    "    RMSE_lines = RMSE_file.readlines()\n",
    "    Rmse = float(RMSE_lines[0].split()[1])\n",
    "    RMSE_data.append(Rmse)\n",
    "    RMSE_file.close()\n",
    "    time_path = os.path.join(floder_path, 'time_30_60.txt')\n",
    "    time_file = open(time_path, 'r')\n",
    "    time_lines = time_file.readlines()\n",
    "    execution_time = float(time_lines[-1].split()[2])\n",
    "    time_data.append(execution_time)\n",
    "    time_file.close()\n",
    "    compression_ratio.append(Raw_storage / storage)\n",
    "    reduction_rate.append((1-(storage / Raw_storage))*100)\n"
   ]
  },
  {
   "cell_type": "code",
   "execution_count": 56,
   "metadata": {},
   "outputs": [
    {
     "name": "stdout",
     "output_type": "stream",
     "text": [
      "Redsea_NumOfEns50_Timesteps60_ConsTimes20_NumOfComps1_SLIC_1024_50_3\n",
      "storage:  40.366492\n",
      "Redsea_NumOfEns50_Timesteps60_ConsTimes20_NumOfComps1_SLIC_1024_50_5\n",
      "storage:  37.835043999999996\n",
      "Redsea_NumOfEns50_Timesteps60_ConsTimes20_NumOfComps1_SLIC_1024_50_7\n",
      "storage:  37.106056\n",
      "Redsea_NumOfEns50_Timesteps60_ConsTimes20_NumOfComps1_SLIC_1024_50_9\n",
      "storage:  36.801664\n",
      "Redsea_NumOfEns50_Timesteps60_ConsTimes20_NumOfComps3_SLIC_1024_50_3\n",
      "storage:  53.098516000000004\n",
      "Redsea_NumOfEns50_Timesteps60_ConsTimes20_NumOfComps3_SLIC_1024_50_5\n",
      "storage:  45.504172\n",
      "Redsea_NumOfEns50_Timesteps60_ConsTimes20_NumOfComps3_SLIC_1024_50_7\n",
      "storage:  43.317208\n",
      "Redsea_NumOfEns50_Timesteps60_ConsTimes20_NumOfComps3_SLIC_1024_50_9\n",
      "storage:  42.404032\n",
      "Redsea_NumOfEns50_Timesteps60_ConsTimes20_NumOfComps5_SLIC_1024_50_3\n",
      "storage:  65.83054\n",
      "Redsea_NumOfEns50_Timesteps60_ConsTimes20_NumOfComps5_SLIC_1024_50_5\n",
      "storage:  53.173300000000005\n",
      "Redsea_NumOfEns50_Timesteps60_ConsTimes20_NumOfComps5_SLIC_1024_50_7\n",
      "storage:  49.52836\n",
      "Redsea_NumOfEns50_Timesteps60_ConsTimes20_NumOfComps5_SLIC_1024_50_9\n",
      "storage:  48.006400000000006\n",
      "Redsea_NumOfEns50_Timesteps60_ConsTimes20_NumOfComps7_SLIC_1024_50_3\n",
      "storage:  78.56256400000001\n",
      "Redsea_NumOfEns50_Timesteps60_ConsTimes20_NumOfComps7_SLIC_1024_50_5\n",
      "storage:  60.842428\n",
      "Redsea_NumOfEns50_Timesteps60_ConsTimes20_NumOfComps7_SLIC_1024_50_7\n",
      "storage:  55.739512000000005\n",
      "Redsea_NumOfEns50_Timesteps60_ConsTimes20_NumOfComps7_SLIC_1024_50_9\n",
      "storage:  53.608768\n"
     ]
    }
   ],
   "source": [
    "for floder50 in name_ConsTime20:\n",
    "    print(floder50)\n",
    "    floder_path = os.path.join((path+'20'),floder50)\n",
    "    storage50_path = os.path.join(floder_path, 'storage_time_range_0_20.txt')\n",
    "    storage50_file = open(storage50_path, 'r')\n",
    "    storage50_lines = storage50_file.readlines()\n",
    "    storage50 = float(storage50_lines[-1].split()[1])\n",
    "    \n",
    "    storage100_path = os.path.join(floder_path, 'storage_time_range_20_40.txt')\n",
    "    storage100_file = open(storage100_path, 'r')\n",
    "    storage100_lines = storage100_file.readlines()\n",
    "    storage100 = float(storage100_lines[-1].split()[1])\n",
    "    \n",
    "    storage150_path = os.path.join(floder_path, 'storage_time_range_40_60.txt')\n",
    "    storage150_file = open(storage150_path, 'r')\n",
    "    storage150_lines = storage150_file.readlines()\n",
    "    storage150 = float(storage150_lines[-1].split()[1])\n",
    "    \n",
    "    storage = storage50+storage100+storage150\n",
    "    print('storage: ', storage)\n",
    "    storage_data.append(storage) \n",
    "    storage150_file.close()\n",
    "    storage100_file.close()\n",
    "    storage50_file.close()\n",
    "    \n",
    "    RMSE_path = os.path.join(floder_path, 'RMSE.txt')\n",
    "    RMSE_file = open(RMSE_path, 'r')\n",
    "    RMSE_lines = RMSE_file.readlines()\n",
    "    Rmse = float(RMSE_lines[0].split()[1])\n",
    "    RMSE_data.append(Rmse)\n",
    "    RMSE_file.close()\n",
    "    time_path = os.path.join(floder_path, 'time_40_60.txt')\n",
    "    time_file = open(time_path, 'r')\n",
    "    time_lines = time_file.readlines()\n",
    "    execution_time = float(time_lines[-1].split()[2])\n",
    "    time_data.append(execution_time)\n",
    "    time_file.close()\n",
    "    compression_ratio.append(Raw_storage / storage)\n",
    "    reduction_rate.append((1-(storage / Raw_storage))*100)"
   ]
  },
  {
   "cell_type": "code",
   "execution_count": 57,
   "metadata": {},
   "outputs": [],
   "source": [
    "AirTemp_experiment = pd.DataFrame({'Storage (MB)':storage_data\n",
    "                                   ,'RMSE':RMSE_data, 'compression ratio':compression_ratio,\n",
    "                                   'reduction':reduction_rate, 'Execution time': time_data})"
   ]
  },
  {
   "cell_type": "code",
   "execution_count": 41,
   "metadata": {},
   "outputs": [],
   "source": [
    "AirTemp_experiment.index = name"
   ]
  },
  {
   "cell_type": "code",
   "execution_count": 42,
   "metadata": {},
   "outputs": [],
   "source": [
    "AirTemp_experiment.to_csv(\"Redsea_Experiment.csv\")"
   ]
  },
  {
   "cell_type": "code",
   "execution_count": 248,
   "metadata": {},
   "outputs": [
    {
     "data": {
      "text/html": [
       "<div>\n",
       "<style scoped>\n",
       "    .dataframe tbody tr th:only-of-type {\n",
       "        vertical-align: middle;\n",
       "    }\n",
       "\n",
       "    .dataframe tbody tr th {\n",
       "        vertical-align: top;\n",
       "    }\n",
       "\n",
       "    .dataframe thead th {\n",
       "        text-align: right;\n",
       "    }\n",
       "</style>\n",
       "<table border=\"1\" class=\"dataframe\">\n",
       "  <thead>\n",
       "    <tr style=\"text-align: right;\">\n",
       "      <th></th>\n",
       "      <th>Storage (MB)</th>\n",
       "      <th>RMSE</th>\n",
       "      <th>compression ratio</th>\n",
       "      <th>reduction</th>\n",
       "      <th>Execution time</th>\n",
       "    </tr>\n",
       "  </thead>\n",
       "  <tbody>\n",
       "    <tr>\n",
       "      <th>Air_ta_x160_y320_NumOfEns60_Timesteps150_NumOfComps1_NonSLIC</th>\n",
       "      <td>9.555260</td>\n",
       "      <td>0.049639</td>\n",
       "      <td>37.620431</td>\n",
       "      <td>97.341870</td>\n",
       "      <td>108.126500</td>\n",
       "    </tr>\n",
       "    <tr>\n",
       "      <th>Air_ta_x160_y320_NumOfEns60_Timesteps150_NumOfComps1_SLIC_1024_100_3</th>\n",
       "      <td>5.602748</td>\n",
       "      <td>0.049650</td>\n",
       "      <td>64.160123</td>\n",
       "      <td>98.441399</td>\n",
       "      <td>20.226280</td>\n",
       "    </tr>\n",
       "    <tr>\n",
       "      <th>Air_ta_x160_y320_NumOfEns60_Timesteps150_NumOfComps1_SLIC_1024_100_5</th>\n",
       "      <td>4.977800</td>\n",
       "      <td>0.049656</td>\n",
       "      <td>72.215236</td>\n",
       "      <td>98.615251</td>\n",
       "      <td>15.190815</td>\n",
       "    </tr>\n",
       "    <tr>\n",
       "      <th>Air_ta_x160_y320_NumOfEns60_Timesteps150_NumOfComps1_SLIC_1024_100_7</th>\n",
       "      <td>4.734380</td>\n",
       "      <td>0.049659</td>\n",
       "      <td>75.928210</td>\n",
       "      <td>98.682966</td>\n",
       "      <td>13.521604</td>\n",
       "    </tr>\n",
       "    <tr>\n",
       "      <th>Air_ta_x160_y320_NumOfEns60_Timesteps150_NumOfComps1_SLIC_1024_100_9</th>\n",
       "      <td>4.589492</td>\n",
       "      <td>0.049662</td>\n",
       "      <td>78.325226</td>\n",
       "      <td>98.723272</td>\n",
       "      <td>12.683401</td>\n",
       "    </tr>\n",
       "  </tbody>\n",
       "</table>\n",
       "</div>"
      ],
      "text/plain": [
       "                                                    Storage (MB)      RMSE  \\\n",
       "Air_ta_x160_y320_NumOfEns60_Timesteps150_NumOfC...      9.555260  0.049639   \n",
       "Air_ta_x160_y320_NumOfEns60_Timesteps150_NumOfC...      5.602748  0.049650   \n",
       "Air_ta_x160_y320_NumOfEns60_Timesteps150_NumOfC...      4.977800  0.049656   \n",
       "Air_ta_x160_y320_NumOfEns60_Timesteps150_NumOfC...      4.734380  0.049659   \n",
       "Air_ta_x160_y320_NumOfEns60_Timesteps150_NumOfC...      4.589492  0.049662   \n",
       "\n",
       "                                                    compression ratio  \\\n",
       "Air_ta_x160_y320_NumOfEns60_Timesteps150_NumOfC...          37.620431   \n",
       "Air_ta_x160_y320_NumOfEns60_Timesteps150_NumOfC...          64.160123   \n",
       "Air_ta_x160_y320_NumOfEns60_Timesteps150_NumOfC...          72.215236   \n",
       "Air_ta_x160_y320_NumOfEns60_Timesteps150_NumOfC...          75.928210   \n",
       "Air_ta_x160_y320_NumOfEns60_Timesteps150_NumOfC...          78.325226   \n",
       "\n",
       "                                                    reduction  Execution time  \n",
       "Air_ta_x160_y320_NumOfEns60_Timesteps150_NumOfC...  97.341870      108.126500  \n",
       "Air_ta_x160_y320_NumOfEns60_Timesteps150_NumOfC...  98.441399       20.226280  \n",
       "Air_ta_x160_y320_NumOfEns60_Timesteps150_NumOfC...  98.615251       15.190815  \n",
       "Air_ta_x160_y320_NumOfEns60_Timesteps150_NumOfC...  98.682966       13.521604  \n",
       "Air_ta_x160_y320_NumOfEns60_Timesteps150_NumOfC...  98.723272       12.683401  "
      ]
     },
     "execution_count": 248,
     "metadata": {},
     "output_type": "execute_result"
    }
   ],
   "source": [
    "AirTemp_experiment.head()"
   ]
  },
  {
   "cell_type": "code",
   "execution_count": 268,
   "metadata": {},
   "outputs": [],
   "source": [
    "import shutil\n",
    "nyx_path = '../nyx_time_step'\n",
    "distination_path = '../nyx_test/'\n",
    "time_steplist = os.listdir(nyx_path)\n",
    "for time in time_steplist:\n",
    "    source_path = os.path.join(nyx_path, time)\n",
    "    file_name = os.listdir(source_path)[50]\n",
    "    source = os.path.join(source_path, file_name)\n",
    "    distination_name = 'time_'+time+'.bin'\n",
    "    distination = os.path.join(distination_path,distination_name)\n",
    "    shutil.copyfile(source, distination)"
   ]
  },
  {
   "cell_type": "code",
   "execution_count": null,
   "metadata": {},
   "outputs": [],
   "source": []
  }
 ],
 "metadata": {
  "kernelspec": {
   "display_name": "Python 3.10.4 ('TGMM_3')",
   "language": "python",
   "name": "python3"
  },
  "language_info": {
   "codemirror_mode": {
    "name": "ipython",
    "version": 3
   },
   "file_extension": ".py",
   "mimetype": "text/x-python",
   "name": "python",
   "nbconvert_exporter": "python",
   "pygments_lexer": "ipython3",
   "version": "3.10.4"
  },
  "orig_nbformat": 4,
  "vscode": {
   "interpreter": {
    "hash": "797dde4d81f7598b75161dc3af3c72e0851d7c9155a7e461083543e66c3c78b3"
   }
  }
 },
 "nbformat": 4,
 "nbformat_minor": 2
}
