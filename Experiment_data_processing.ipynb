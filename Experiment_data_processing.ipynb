{
 "cells": [
  {
   "cell_type": "code",
   "execution_count": 1,
   "metadata": {},
   "outputs": [],
   "source": [
    "%reset"
   ]
  },
  {
   "cell_type": "code",
   "execution_count": 2,
   "metadata": {},
   "outputs": [],
   "source": [
    "import os\n",
    "import numpy as np\n",
    "import pandas as pd"
   ]
  },
  {
   "cell_type": "code",
   "execution_count": 6,
   "metadata": {},
   "outputs": [],
   "source": [
    "path = 'C:\\\\Users\\\\User\\\\Desktop\\\\master thesis\\\\Experiment\\\\Tgmm_slic\\\\Airta\\\\160_320\\\\'\n",
    "name_ConsTime150 = os.listdir(path+'150')\n",
    "name_ConsTime75 = os.listdir(path+'75')"
   ]
  },
  {
   "cell_type": "code",
   "execution_count": 18,
   "metadata": {},
   "outputs": [
    {
     "data": {
      "text/plain": [
       "['bin_data_x160_y320_num_of_bins128_4.bin',\n",
       " 'edge.bin',\n",
       " 'Gmm_data_Slic_0_0_comp3_NumofGMMs_477763.bin',\n",
       " 'label.bin',\n",
       " 'RMSE.txt',\n",
       " 'storage.txt',\n",
       " 'time.txt',\n",
       " 'timesteps150_error.bin']"
      ]
     },
     "execution_count": 18,
     "metadata": {},
     "output_type": "execute_result"
    }
   ],
   "source": [
    "test_floder_path = os.path.join((path+'150'),name_ConsTime150[0])\n",
    "os.listdir(test_floder_path)"
   ]
  },
  {
   "cell_type": "code",
   "execution_count": 35,
   "metadata": {},
   "outputs": [],
   "source": [
    "a = []\n",
    "file_path = os.path.join(test_floder_path, 'storage.txt')\n",
    "f = open(file_path, 'r')\n",
    "lines = f.readlines()\n",
    "f.close()"
   ]
  },
  {
   "cell_type": "code",
   "execution_count": 36,
   "metadata": {},
   "outputs": [],
   "source": [
    "a = lines[-1].split(' ')[2]"
   ]
  },
  {
   "cell_type": "code",
   "execution_count": 37,
   "metadata": {},
   "outputs": [
    {
     "data": {
      "text/plain": [
       "9.55526"
      ]
     },
     "execution_count": 37,
     "metadata": {},
     "output_type": "execute_result"
    }
   ],
   "source": [
    "float(a)"
   ]
  },
  {
   "cell_type": "code",
   "execution_count": 44,
   "metadata": {},
   "outputs": [],
   "source": [
    "storage_data = []\n",
    "for floder in name_ConsTime150[:2]:\n",
    "    floder_path = os.path.join((path+'150'),floder)\n",
    "    storage_path = os.path.join(floder_path, 'storage.txt')\n",
    "    storage_file = open(storage_path, 'r')\n",
    "    storage_lines = storage_file.readlines()\n",
    "    # print(float(storage_lines[-1].split(' ')[2]))\n",
    "    storage_data.append(float(storage_lines[-1].split(' ')[2]))\n",
    "    "
   ]
  },
  {
   "cell_type": "code",
   "execution_count": null,
   "metadata": {},
   "outputs": [],
   "source": []
  }
 ],
 "metadata": {
  "kernelspec": {
   "display_name": "Python 3.10.4 ('TGMM_3')",
   "language": "python",
   "name": "python3"
  },
  "language_info": {
   "codemirror_mode": {
    "name": "ipython",
    "version": 3
   },
   "file_extension": ".py",
   "mimetype": "text/x-python",
   "name": "python",
   "nbconvert_exporter": "python",
   "pygments_lexer": "ipython3",
   "version": "3.10.4"
  },
  "orig_nbformat": 4,
  "vscode": {
   "interpreter": {
    "hash": "797dde4d81f7598b75161dc3af3c72e0851d7c9155a7e461083543e66c3c78b3"
   }
  }
 },
 "nbformat": 4,
 "nbformat_minor": 2
}
