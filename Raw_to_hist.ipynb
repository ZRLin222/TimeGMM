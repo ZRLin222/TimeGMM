{
 "cells": [
  {
   "cell_type": "code",
   "execution_count": 28,
   "metadata": {},
   "outputs": [],
   "source": [
    "%reset"
   ]
  },
  {
   "cell_type": "code",
   "execution_count": 30,
   "metadata": {},
   "outputs": [],
   "source": [
    "import os ########################################\n",
    "import numpy as np ###############################\n",
    "import scipy.stats as stats ######################\n",
    "import math ######################################\n",
    "import matplotlib.pyplot as plt###################\n",
    "from sklearn.metrics import mean_squared_error####"
   ]
  },
  {
   "cell_type": "code",
   "execution_count": 3,
   "metadata": {},
   "outputs": [],
   "source": [
    "def create_Raw_hist(Raw_data, ensembleMenber, time):\n",
    "    data = Raw_data\n",
    "    min_of_data = data.min()\n",
    "    max_of_data = data.max()\n",
    "    bin_info = []\n",
    "    temp_bin_info = []\n",
    "    total_his_bins = 0\n",
    "    if(len(data.shape) > 3):\n",
    "        for timestep in range(time):\n",
    "            timestep_bins = 0\n",
    "            for x in range(data.shape[0]):\n",
    "                for y in range(data.shape[1]):\n",
    "                    for z in range(data.shape[2]):\n",
    "                        rawdata = data[x, y, z, timestep*ensembleMenber:(timestep+1)*ensembleMenber]\n",
    "                        hist = np.histogram(rawdata, bins=128, range=(min_of_data, max_of_data))\n",
    "                        histprob = np.array(hist[0]/ensembleMenber)\n",
    "                        histcount = np.array(hist[0])\n",
    "                        total_his_bins += (len(histcount[histcount!=0]))\n",
    "                        timestep_bins += (len(histcount[histcount!=0]))\n",
    "                        grid_index = x*data.shape[1]*data.shape[2] + y*data.shape[2] + z\n",
    "                        for bin_index in range(len(histprob)):\n",
    "                            if(histprob[bin_index] == 0): continue\n",
    "                            else:\n",
    "                                binprob = histprob[bin_index]\n",
    "                                bincount = float(histcount[bin_index])\n",
    "                                temp_bin_info.append([timestep, grid_index, bin_index, bincount])\n",
    "            # print('Bins of each time step: ', timestep_bins)\n",
    "            # print('Num of bins: ', total_his_bins)\n",
    "        bin_info = np.array(temp_bin_info)\n",
    "                  \n",
    "    else:\n",
    "        for timestep in range(time):\n",
    "            for x in range(data.shape[0]):\n",
    "                for y in range(data.shape[1]):\n",
    "                    rawdata = data[x, y, timestep*ensembleMenber:(timestep+1)*ensembleMenber]\n",
    "                    hist = np.histogram(rawdata, bins=128, range=(min_of_data, max_of_data))\n",
    "                    histprob = np.array(hist[0]/ensembleMenber)\n",
    "                    histcount = np.array(hist[0])\n",
    "                    grid_index = x*data.shape[1] + y\n",
    "                    for bin_index in range(len(histprob)):\n",
    "                        if(histprob[bin_index] == 0): continue \n",
    "                        else:\n",
    "                            binprob = histprob[bin_index]\n",
    "                            bincount = float(histcount[bin_index])\n",
    "                            temp_bin_info.append([timestep, grid_index, bin_index, bincount])\n",
    "        bin_info = np.array(temp_bin_info)\n",
    "                \n",
    "    return  bin_info"
   ]
  },
  {
   "cell_type": "code",
   "execution_count": 4,
   "metadata": {},
   "outputs": [],
   "source": [
    "def reconstruct_raw_bin(bin_data, x, y, z, TotalTimesteps, NumOfBins, NumOfEnsemble):\n",
    "    if(z != 0):\n",
    "       Reconted_data = np.zeros((TotalTimesteps, x, y, z, NumOfBins))\n",
    "       for bin in bin_data:\n",
    "           timestep = int(bin[0])\n",
    "           x_location = int(bin[1]//(y*z))\n",
    "           y_location = int((bin[1]%(y*z))//z)\n",
    "           z_location = int((bin[1]%(y*z))%z)\n",
    "           bin_index = int(bin[2])\n",
    "           bin_prob = bin[3]/NumOfEnsemble\n",
    "           Reconted_data[timestep, x_location, y_location, z_location, bin_index] = bin_prob\n",
    "    else:\n",
    "        Reconted_data = np.zeros((int(bin_data[:,0].max()+1), x, y, NumOfBins))\n",
    "        # Reconted_data = np.zeros((TotalTimesteps, x, y, NumOfBins))\n",
    "        for bin in bin_data:\n",
    "            timestep = int(bin[0])\n",
    "            x_location = int(bin[1]//y)\n",
    "            y_location = int(bin[1]%y)\n",
    "            if(y_location>=128):\n",
    "                bin_index = 127\n",
    "            bin_index = int(bin[2])\n",
    "            if(bin_index>=128):\n",
    "                bin_index = 127\n",
    "            bin_prob = bin[3]/NumOfEnsemble\n",
    "            Reconted_data[timestep, x_location, y_location, bin_index] = bin_prob\n",
    "    return Reconted_data"
   ]
  },
  {
   "cell_type": "code",
   "execution_count": 5,
   "metadata": {},
   "outputs": [],
   "source": [
    "def compute_error(reconstruction, raw):\n",
    "    data_size = reconstruction.shape\n",
    "    if (len(reconstruction.shape) >3):\n",
    "        data_x = data_size[0]\n",
    "        data_y = data_size[1]\n",
    "        data_z = data_size[2] \n",
    "        error = 0\n",
    "        for x in range(data_x):\n",
    "            for y in range(data_y):\n",
    "                for z in range(data_z):\n",
    "                    error += math.sqrt(mean_squared_error(reconstruction[x,y,z], raw[x,y,z]))\n",
    "        rmse = error / (data_x*data_y*data_z) \n",
    "    else:\n",
    "        data_x = data_size[0]\n",
    "        data_y = data_size[1]\n",
    "        error = 0\n",
    "        for x in range(data_x):\n",
    "            for y in range(data_y):\n",
    "                error += math.sqrt(mean_squared_error(reconstruction[x,y], raw[x,y]))\n",
    "        rmse = error / (data_x*data_y)\n",
    "    return rmse     "
   ]
  },
  {
   "cell_type": "code",
   "execution_count": null,
   "metadata": {},
   "outputs": [],
   "source": [
    "redsea_data = np.load('RedSea_25_100_100_ensemble50_timestep60.npy') # Re conduct\n",
    "Redsea_raw_bin_data_count = create_Raw_hist(redsea_data, 50, 60)\n",
    "Redsea_raw_bin_data_count.astype('float32').tofile('Redsea_raw_bin_data_count.bin')\n",
    "Redsea_reconted_raw = reconstruct_raw_bin(Redsea_raw_bin_data_count, 25, 100, 100, 60, 128, 50)\n",
    "Redsea_reconted_raw.astype('float32').tofile('RedSea_raw_reconted_60_25_100_100_128.bin')"
   ]
  },
  {
   "cell_type": "code",
   "execution_count": 18,
   "metadata": {},
   "outputs": [],
   "source": [
    "redsea_bin_data = np.fromfile('Redsea_raw_bin_data_count.bin', dtype='float32').reshape((16507488,4))"
   ]
  },
  {
   "cell_type": "code",
   "execution_count": 20,
   "metadata": {},
   "outputs": [],
   "source": [
    "Redsea_reconted_raw = reconstruct_raw_bin(redsea_bin_data, 25, 100, 100, 60, 128, 50)"
   ]
  },
  {
   "cell_type": "code",
   "execution_count": 25,
   "metadata": {},
   "outputs": [],
   "source": [
    "Redsea_reconted_raw.astype('float32').tofile('redsea_raw_reconted_60_25_100_100_128.bin')"
   ]
  },
  {
   "cell_type": "code",
   "execution_count": 27,
   "metadata": {},
   "outputs": [
    {
     "data": {
      "text/plain": [
       "(60, 25, 100, 100, 128)"
      ]
     },
     "execution_count": 27,
     "metadata": {},
     "output_type": "execute_result"
    }
   ],
   "source": [
    "Redsea_reconted_raw.shape"
   ]
  },
  {
   "cell_type": "code",
   "execution_count": 6,
   "metadata": {},
   "outputs": [],
   "source": [
    "nyx_data = np.load('nyx_density_32cube_ensemble64_timestep200.npy')\n",
    "nyx_32cube_raw_bin_data = create_Raw_hist(nyx_data,64,200)\n",
    "nyx_32cube_raw_bin_data.astype('float32').tofile('nyx_32cube_raw_bin_data_count.bin')\n",
    "nyx_reconted_raw = reconstruct_raw_bin(nyx_32cube_raw_bin_data ,32 ,32, 32, 200, 128, 64)\n",
    "nyx_reconted_raw.astype('float32').tofile('nyx_32cube_raw_reonted_200_32_32_32_128.bin')"
   ]
  },
  {
   "cell_type": "code",
   "execution_count": 162,
   "metadata": {},
   "outputs": [],
   "source": [
    "sz_bindata = np.fromfile('air_raw_bin_data.bin.sz.out',dtype='float32').reshape((8010121,4))"
   ]
  },
  {
   "cell_type": "code",
   "execution_count": 163,
   "metadata": {},
   "outputs": [],
   "source": [
    "sz_reconted = reconstruct_raw_bin(sz_bindata, 64, 128,0 ,150, 128)"
   ]
  },
  {
   "cell_type": "code",
   "execution_count": 164,
   "metadata": {},
   "outputs": [],
   "source": [
    "sz_error = np.zeros(150)\n",
    "for i in range(150):\n",
    "    sz_error[i] = compute_error(sz_reconted[i], test_reconted_raw[i])"
   ]
  },
  {
   "cell_type": "code",
   "execution_count": 3,
   "metadata": {},
   "outputs": [],
   "source": [
    "nyx_bin_data = np.fromfile('nyx_48cube_raw_bin_data_count.bin',dtype='float32')"
   ]
  },
  {
   "cell_type": "code",
   "execution_count": 6,
   "metadata": {},
   "outputs": [],
   "source": [
    "nyx_bin_data = nyx_bin_data.reshape((22118400,4))"
   ]
  },
  {
   "cell_type": "code",
   "execution_count": 12,
   "metadata": {},
   "outputs": [
    {
     "data": {
      "text/plain": [
       "array([[0.00000e+00, 0.00000e+00, 1.27000e+02, 0.00000e+00],\n",
       "       [0.00000e+00, 1.00000e+00, 1.27000e+02, 0.00000e+00],\n",
       "       [0.00000e+00, 2.00000e+00, 1.27000e+02, 0.00000e+00],\n",
       "       ...,\n",
       "       [1.99000e+02, 1.10589e+05, 1.27000e+02, 0.00000e+00],\n",
       "       [1.99000e+02, 1.10590e+05, 1.27000e+02, 0.00000e+00],\n",
       "       [1.99000e+02, 1.10591e+05, 1.27000e+02, 0.00000e+00]],\n",
       "      dtype=float32)"
      ]
     },
     "execution_count": 12,
     "metadata": {},
     "output_type": "execute_result"
    }
   ],
   "source": [
    "nyx_bin_data"
   ]
  },
  {
   "cell_type": "code",
   "execution_count": 31,
   "metadata": {},
   "outputs": [],
   "source": [
    "sz_test = np.fromfile('air_raw_bin_data_count.bin.sz.out',dtype='float32')"
   ]
  },
  {
   "cell_type": "code",
   "execution_count": 33,
   "metadata": {},
   "outputs": [],
   "source": [
    "sz = sz_test.reshape((11233538,4))"
   ]
  }
 ],
 "metadata": {
  "interpreter": {
   "hash": "797dde4d81f7598b75161dc3af3c72e0851d7c9155a7e461083543e66c3c78b3"
  },
  "kernelspec": {
   "display_name": "Python 3.10.4 ('TGMM_3')",
   "language": "python",
   "name": "python3"
  },
  "language_info": {
   "codemirror_mode": {
    "name": "ipython",
    "version": 3
   },
   "file_extension": ".py",
   "mimetype": "text/x-python",
   "name": "python",
   "nbconvert_exporter": "python",
   "pygments_lexer": "ipython3",
   "version": "3.10.4"
  },
  "orig_nbformat": 4
 },
 "nbformat": 4,
 "nbformat_minor": 2
}
