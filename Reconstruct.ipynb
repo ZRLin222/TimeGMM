{
 "cells": [
  {
   "cell_type": "code",
   "execution_count": 1,
   "metadata": {},
   "outputs": [],
   "source": [
    "%reset"
   ]
  },
  {
   "cell_type": "code",
   "execution_count": 2,
   "metadata": {},
   "outputs": [],
   "source": [
    "import os ########################################\n",
    "import numpy as np ###############################\n",
    "import scipy.stats as stats ######################\n",
    "import math ######################################\n",
    "import matplotlib.pyplot as plt###################\n",
    "from sklearn.metrics import mean_squared_error####"
   ]
  },
  {
   "cell_type": "code",
   "execution_count": 3,
   "metadata": {},
   "outputs": [],
   "source": [
    "class reconstruct(object):\n",
    "    \n",
    "    def __init__(self, edge, bin_data, GMM, label):\n",
    "        self.edge = edge\n",
    "        self.bin_data = bin_data\n",
    "        self.GMM = GMM\n",
    "        self.label = label\n",
    "        if len(self.bin_data.shape) > 4:\n",
    "            self.x = self.bin_data.shape[0]\n",
    "            self.y = self.bin_data.shape[1]\n",
    "            self.z = self.bin_data.shape[2]\n",
    "            self.num_of_bin = self.bin_data.shape[3]\n",
    "            self.reconstructed_data = np.full((self.x, self.y, self.z, self.num_of_bin), np.inf)\n",
    "        else:\n",
    "            self.x = self.bin_data.shape[0]\n",
    "            self.y = self.bin_data.shape[1]\n",
    "            self.num_of_bin = self.bin_data.shape[2]\n",
    "            self.reconstructed_data = np.full((self.x, self.y, self.num_of_bin), np.inf)\n",
    "    \n",
    "    def reconstruct(self, time): #bin: [index, prob, Gmm label, Num of component]\n",
    "        if len(self.bin_data.shape) > 4:\n",
    "            for x in range(self.x):\n",
    "                for y in range(self.y):\n",
    "                    for z in range(self.z):\n",
    "                        self.reconstructed_data[x,y,z] = self.grid_reconstruct(self.bin_data[x,y,z], time)\n",
    "        else:\n",
    "            for x in range(self.x):\n",
    "                for y in range(self.y):\n",
    "                    self.reconstructed_data[x,y] = self.grid_reconstruct(self.bin_data[x,y], time)\n",
    "\n",
    "    def grid_reconstruct(self, grid, time_step):\n",
    "        numOfbin = len(grid)\n",
    "        f = np.zeros(numOfbin)\n",
    "        p = np.zeros(numOfbin)\n",
    "        bin_count=0\n",
    "        for bin in grid:\n",
    "            if(bin[0] == -1): \n",
    "                f[bin_count] = 0\n",
    "                p[bin_count] = 0\n",
    "            else:\n",
    "                GMM_prob = 0\n",
    "                bin_index = bin[0]\n",
    "                bar_prob = bin[1]\n",
    "                Gmm_label = int(bin[2])\n",
    "                start = int(self.label[Gmm_label])\n",
    "                n_comp = int(bin[3])\n",
    "                end = int(start+n_comp)\n",
    "                # print('start: ', start, 'end: ',end)\n",
    "                weights = self.GMM[0][start:end]\n",
    "                means = self.GMM[1][start:end]\n",
    "                covars = self.GMM[2][start:end]\n",
    "                for n_components in range(n_comp):\n",
    "                    GMM_prob += weights[n_components] * (np.exp((-((time_step-means[n_components])**2))/(2*(np.sqrt(covars[n_components])**2))) / np.sqrt(2*np.pi*(np.sqrt(covars[n_components])**2)))\n",
    "                f[bin_count] = GMM_prob\n",
    "                p[bin_count] = bar_prob\n",
    "                start += int(n_comp)\n",
    "            bin_count += 1\n",
    "        postProb = f * p\n",
    "        postProbSum = np.sum(postProb)\n",
    "        postProb = postProb / postProbSum\n",
    "        return postProb\n",
    "                                       \n",
    "    \n",
    "    def _compute_cdf(self, pdf, edge, x):\n",
    "        allcdf = np.cumsum(pdf)\n",
    "        allcdf = np.hstack([0.0, allcdf])\n",
    "        cdf = np.interp(x, edge, allcdf, left=0, right=0)\n",
    "        return cdf\n",
    "    \n",
    "    # def compute_isovalue(self, iso_value):\n",
    "    #     hist_edge = self.edge\n",
    "        \n",
    "    #     if len(self.bin_data.shape) > 4:\n",
    "    #         cdf = np.zeros((self.x, self.y, self.z))\n",
    "    #         for i in range(self.x):\n",
    "    #             for j in range(self.y):\n",
    "    #                 for k in range(self.z):\n",
    "    #                     cdf[i,j,k] = self._compute_cdf(self.reconstructed_data[i,j,k], hist_edge, iso_value)\n",
    "    #         cdf_1_c = 1 - cdf\n",
    "    #         pCrossing = np.zeros((self.x, self.y, self.z))\n",
    "    #         for l in range(self.x):\n",
    "    #             for m in range(self.y):\n",
    "    #                 for n in range(self.z):\n",
    "    #                     if(l == self.x-1):\n",
    "    #                         pCrossing[l, m, n] = pCrossing[l-1, m, n]\n",
    "    #                     elif(m == self.y-1):\n",
    "    #                         pCrossing[l, m, n] = pCrossing[l, m-1, n]\n",
    "    #                     elif(n == self.z-1):\n",
    "    #                         pCrossing[l, m, n] = pCrossing[l, m, n-1]   \n",
    "    #                     else:\n",
    "    #                         prob = cdf[l, m, n] * cdf[l+1, m, n] * cdf[l, m+1, n] * cdf[l, m, n+1] * cdf[l+1, m+1, n] * cdf[l+1, m, n+1] * cdf[l, m+1, n+1] * cdf[l+1, m+1, n+1]\n",
    "    #                         prob2 = cdf_1_c[l, m, n] * cdf_1_c[l+1, m, n] * cdf_1_c[l, m+1, n] * cdf_1_c[l, m, n+1] * cdf_1_c[l+1, m+1, n] * cdf_1_c[l+1, m, n+1] * cdf_1_c[l, m+1, n+1] * cdf_1_c[l+1, m+1, n+1]\n",
    "    #                         pCrossing[l, m, n] = 1 - prob - prob2\n",
    "    #     else:    \n",
    "    #         cdf = np.zeros((self.x, self.y))\n",
    "    #         for i in range(self.x):\n",
    "    #             for j in range(self.y):\n",
    "    #                 cdf[i,j] = self._compute_cdf(self.reconstructed_data[i,j], hist_edge, iso_value)\n",
    "    #         cdf_1_c = 1 - cdf\n",
    "    #         pCrossing = np.zeros((self.x, self.y))\n",
    "    #         for k in range(self.x):\n",
    "    #             for l in range(self.y):\n",
    "    #                 if(l == self.y-1):\n",
    "    #                     pCrossing[k, l] = pCrossing[k, l-1]\n",
    "    #                 elif(k == self.x-1):\n",
    "    #                     pCrossing[k, l] = pCrossing[k-1, l]\n",
    "    #                 else:\n",
    "    #                     prob = cdf[k, l] * cdf[k, l+1] * cdf[k+1, l] * cdf[k+1, l+1]\n",
    "    #                     prob2 = cdf_1_c[k, l] * cdf_1_c[k, l+1] * cdf_1_c[k+1, l] * cdf_1_c[k+1, l+1]\n",
    "    #                     pCrossing[k, l] = 1 - prob - prob2\n",
    "    #     return pCrossing              \n",
    "    \n",
    "    def compute_isovalue(self, reconst_data, iso_value):\n",
    "        hist_edge = self.edge\n",
    "        \n",
    "        if len(self.bin_data.shape) > 4:\n",
    "            cdf = np.zeros((self.x, self.y, self.z))\n",
    "            for i in range(self.x):\n",
    "                for j in range(self.y):\n",
    "                    for k in range(self.z):\n",
    "                        cdf[i,j,k] = self._compute_cdf(reconst_data[i,j,k], hist_edge, iso_value)\n",
    "            cdf_1_c = 1 - cdf\n",
    "            pCrossing = np.zeros((self.x, self.y, self.z))\n",
    "            for l in range(self.x):\n",
    "                for m in range(self.y):\n",
    "                    for n in range(self.z):\n",
    "                        if(l == self.x-1):\n",
    "                            pCrossing[l, m, n] = pCrossing[l-1, m, n]\n",
    "                        elif(m == self.y-1):\n",
    "                            pCrossing[l, m, n] = pCrossing[l, m-1, n]\n",
    "                        elif(n == self.z-1):\n",
    "                            pCrossing[l, m, n] = pCrossing[l, m, n-1]   \n",
    "                        else:\n",
    "                            prob = cdf[l, m, n] * cdf[l+1, m, n] * cdf[l, m+1, n] * cdf[l, m, n+1] * cdf[l+1, m+1, n] * cdf[l+1, m, n+1] * cdf[l, m+1, n+1] * cdf[l+1, m+1, n+1]\n",
    "                            prob2 = cdf_1_c[l, m, n] * cdf_1_c[l+1, m, n] * cdf_1_c[l, m+1, n] * cdf_1_c[l, m, n+1] * cdf_1_c[l+1, m+1, n] * cdf_1_c[l+1, m, n+1] * cdf_1_c[l, m+1, n+1] * cdf_1_c[l+1, m+1, n+1]\n",
    "                            pCrossing[l, m, n] = 1 - prob - prob2\n",
    "        else:    \n",
    "            cdf = np.zeros((self.x, self.y))\n",
    "            for i in range(self.x):\n",
    "                for j in range(self.y):\n",
    "                    cdf[i,j] = self._compute_cdf(reconst_data[i,j], hist_edge, iso_value)\n",
    "            cdf_1_c = 1 - cdf\n",
    "            pCrossing = np.zeros((self.x, self.y))\n",
    "            for k in range(self.x):\n",
    "                for l in range(self.y):\n",
    "                    if(l == self.y-1):\n",
    "                        pCrossing[k, l] = pCrossing[k, l-1]\n",
    "                    elif(k == self.x-1):\n",
    "                        pCrossing[k, l] = pCrossing[k-1, l]\n",
    "                    else:\n",
    "                        prob = cdf[k, l] * cdf[k, l+1] * cdf[k+1, l] * cdf[k+1, l+1]\n",
    "                        prob2 = cdf_1_c[k, l] * cdf_1_c[k, l+1] * cdf_1_c[k+1, l] * cdf_1_c[k+1, l+1]\n",
    "                        pCrossing[k, l] = 1 - prob - prob2\n",
    "        return pCrossing\n",
    "    \n",
    "    def all_reconstruct(self, time): #bin: [index, prob, Gmm label, Num of component]\n",
    "        if len(self.bin_data.shape) > 4:\n",
    "            reconstructed_data = np.zeros((self.x, self.y, self.z, self.num_of_bin, time))\n",
    "            for x in range(self.x):\n",
    "                for y in range(self.y):\n",
    "                    for z in range(self.z):\n",
    "                        reconstructed_data[x,y,z] = self.all_time_reconstruct(self.bin_data[x,y,z], time)\n",
    "        else:\n",
    "            reconstructed_data = np.zeros((self.x, self.y, self.num_of_bin, time))\n",
    "            for x in range(self.x):\n",
    "                for y in range(self.y):\n",
    "                    reconstructed_data[x,y] = self.all_time_reconstruct(self.bin_data[x,y], time)\n",
    "        return reconstructed_data\n",
    "    \n",
    "    def all_time_reconstruct(self, grid, time):\n",
    "        alltime = np.arange(time)\n",
    "        numOfbin = len(grid)\n",
    "        postProb = np.zeros((numOfbin,len(alltime)))\n",
    "        bin_count=0\n",
    "        SumpostProb = np.zeros(len(alltime))\n",
    "        for bin in grid:\n",
    "            if(bin[0] == -1):\n",
    "                bin_count +=1\n",
    "            else:\n",
    "                GMM_prob = np.zeros(len(alltime))\n",
    "                bin_index = bin[0]\n",
    "                bar_prob = bin[1]\n",
    "                Gmm_label = int(bin[2])\n",
    "                start = int(self.label[Gmm_label])\n",
    "                n_comp = int(bin[3])\n",
    "                end = int(start+n_comp)\n",
    "                weights = self.GMM[0][start:end]\n",
    "                means = self.GMM[1][start:end]\n",
    "                covars = self.GMM[2][start:end]\n",
    "                for n_components in range(n_comp):\n",
    "                        GMM_prob += weights[n_components] * (np.exp((-((alltime-means[n_components])**2))/(2*(np.sqrt(covars[n_components])**2))) / np.sqrt(2*np.pi*(np.sqrt(covars[n_components])**2)))\n",
    "                tempPostProb = GMM_prob * bar_prob \n",
    "                SumpostProb += tempPostProb \n",
    "                postProb[bin_count] = tempPostProb\n",
    "                start += int(n_comp)\n",
    "                bin_count += 1\n",
    "        postProb = postProb/SumpostProb\n",
    "        return postProb\n",
    "    \n",
    "\n",
    "            "
   ]
  },
  {
   "cell_type": "code",
   "execution_count": 4,
   "metadata": {},
   "outputs": [],
   "source": [
    "def interpolated_hist(data, numOfTimeStep, numOfensemble, interval, reconstruct_time):\n",
    "    data_size = data.shape\n",
    "    min_of_data = data.min()    \n",
    "    max_of_data = data.max()\n",
    "    x = data_size[0]\n",
    "    y = data_size[1]\n",
    "    z = data_size[2]\n",
    "    selected_time = np.arange(0, numOfTimeStep, interval)\n",
    "    # print(selected_time)\n",
    "    left_timestep = np.max(selected_time[selected_time <= reconstruct_time])\n",
    "    right_timestep = left_timestep + interval\n",
    "    if(right_timestep > numOfTimeStep):\n",
    "        right_timestep = numOfTimeStep\n",
    "    # print('left: ', left_timestep, 'right: ', right_timestep)\n",
    "    if(len(data_size)>3):\n",
    "        inter_hist_prob = np.zeros((data_size[0],data_size[1],data_size[2],128))\n",
    "        for i in range(x):\n",
    "            for j in range(y):\n",
    "                for k in range(z):\n",
    "                    rawdataR = data[i, j, k, (right_timestep*numOfensemble):(right_timestep*numOfensemble)+numOfensemble]\n",
    "                    rawdataL = data[i, j, k, (left_timestep*numOfensemble):(left_timestep*numOfensemble)+numOfensemble]\n",
    "                    histR = np.histogram(rawdataR, bins=128, range=(min_of_data, max_of_data))[0]\n",
    "                    histL = np.histogram(rawdataL, bins=128, range=(min_of_data, max_of_data))[0]\n",
    "                    interhist = histL + (((histR-histL)/interval) * (reconstruct_time-left_timestep))\n",
    "                    inter_hist_prob[i,j,k] = interhist/np.sum(interhist)\n",
    "    else:\n",
    "        inter_hist_prob = np.zeros((data_size[0], data_size[1], 128))\n",
    "        for i in range(x):\n",
    "            for j in range(y):\n",
    "                rawdataR = data[i,j, (right_timestep*numOfensemble):(right_timestep*numOfensemble)+numOfensemble]\n",
    "                rawdataL = data[i,j, (left_timestep*numOfensemble):(left_timestep*numOfensemble)+numOfensemble]\n",
    "                histR = np.histogram(rawdataR, bins=128, range=(min_of_data, max_of_data))[0]\n",
    "                histL = np.histogram(rawdataL, bins=128, range=(min_of_data, max_of_data))[0]\n",
    "                interhist = histL + (((histR-histL)/interval) * (reconstruct_time-left_timestep))\n",
    "                inter_hist_prob[i,j] = interhist/np.sum(interhist)\n",
    "        \n",
    "    return inter_hist_prob"
   ]
  },
  {
   "cell_type": "code",
   "execution_count": 5,
   "metadata": {},
   "outputs": [],
   "source": [
    "def compute_error(reconstruction, raw):\n",
    "    data_size = reconstruction.shape\n",
    "    if (len(reconstruction.shape) >3):\n",
    "        data_x = data_size[0]\n",
    "        data_y = data_size[1]\n",
    "        data_z = data_size[2] \n",
    "        # error = 0\n",
    "        # for x in range(data_x):\n",
    "        #     for y in range(data_y):\n",
    "        #         for z in range(data_z):\n",
    "        #             error += math.sqrt(mean_squared_error(reconstruction[x,y,z], raw[x,y,z]))\n",
    "        # rmse = error / (data_x*data_y*data_z) \n",
    "        rmse = np.sum((np.sum((reconstruction - raw)**2, axis=3)/128)**(1/2))\n",
    "        rmse = rmse/(data_x*data_y*data_z)\n",
    "    else:\n",
    "        data_x = data_size[0]\n",
    "        data_y = data_size[1]\n",
    "\n",
    "        rmse = np.sum((np.sum((reconstruction - raw)**2, axis=2)/128)**(1/2))\n",
    "        rmse = rmse/(data_x*data_y)\n",
    "    return rmse               "
   ]
  },
  {
   "cell_type": "code",
   "execution_count": 6,
   "metadata": {},
   "outputs": [],
   "source": [
    "def compute_3Disovalue(hist_dist, isovalue):\n",
    "    pcrossing = np.zeros((32,32,32))\n",
    "    for i in range(32):\n",
    "        for j in range(32):\n",
    "            for k in range(32):\n",
    "                if(j == 31):\n",
    "                    pcrossing[i, j, k] = pcrossing[i, j-1, k]\n",
    "                elif(i == 31):\n",
    "                    pcrossing[i, j, k] = pcrossing[i-1, j, k]\n",
    "                elif(k == 31):\n",
    "                    pcrossing[i, j, k] = pcrossing[i, j, k-1]\n",
    "                else:\n",
    "                    prob = hist_dist[i, j, k].cdf(isovalue)*hist_dist[i,j+1,k].cdf(isovalue)*hist_dist[i+1,j,k].cdf(isovalue)*hist_dist[i,j,k+1].cdf(isovalue)*hist_dist[i+1,j+1,k].cdf(isovalue)*hist_dist[i+1,j,k+1].cdf(isovalue)*hist_dist[i,j+1,k+1].cdf(isovalue)*hist_dist[i+1,j+1,k+1].cdf(isovalue)\n",
    "                    prob2 = (1-hist_dist[i, j,k].cdf(isovalue))*(1-hist_dist[i, j+1,k].cdf(isovalue))*(1-hist_dist[i+1, j,k].cdf(isovalue))*(1-hist_dist[i, j, k+1].cdf(isovalue))*(1-hist_dist[i+1, j+1, k].cdf(isovalue))*(1-hist_dist[i+1, j, k+1].cdf(isovalue))*(1-hist_dist[i, j+1, k+1].cdf(isovalue))*(1-hist_dist[i+1, j+1, k+1].cdf(isovalue))\n",
    "                    pcrossing[i, j, k] = 1 - prob - prob2\n",
    "    return pcrossing "
   ]
  },
  {
   "cell_type": "code",
   "execution_count": 7,
   "metadata": {},
   "outputs": [],
   "source": [
    "def compute_isovalue(hist_dist, isovalue):\n",
    "    pcrossing = np.zeros((160,320))\n",
    "    for i in range(160):\n",
    "        for j in range(320):\n",
    "            if(j == 159):\n",
    "                pcrossing[i, j] = pcrossing[i, j-1]\n",
    "            elif(i == 319):\n",
    "                pcrossing[i, j] = pcrossing[i-1, j]\n",
    "            else:\n",
    "                prob = hist_dist[i, j].cdf(isovalue)*hist_dist[i,j+1].cdf(isovalue)*hist_dist[i+1,j].cdf(isovalue)*hist_dist[i+1,j+1].cdf(isovalue)\n",
    "                prob2 = (1-hist_dist[i, j].cdf(isovalue))*(1-hist_dist[i, j+1].cdf(isovalue))*(1-hist_dist[i+1, j].cdf(isovalue))*(1-hist_dist[i+1, j+1].cdf(isovalue))\n",
    "                pcrossing[i, j] = 1 - prob - prob2\n",
    "    return pcrossing    "
   ]
  },
  {
   "cell_type": "code",
   "execution_count": 8,
   "metadata": {},
   "outputs": [],
   "source": [
    "def compute_interp_isovalue(interp_data ,edge, isovalue):\n",
    "    if len(interp_data.shape) > 3:\n",
    "        x = interp_data.shape[0]\n",
    "        y = interp_data.shape[1]\n",
    "        z = interp_data.shape[2]\n",
    "        cdf = np.zeros((x,y,z))\n",
    "        for i in range(x):\n",
    "            for j in range(y):\n",
    "                for k in range(z):\n",
    "                    allcdf = np.cumsum(interp_data[i,j,k])\n",
    "                    allcdf = np.hstack([0.0, allcdf])\n",
    "                    cdf[i,j,k] = np.interp(isovalue, edge, allcdf, left=0, right=0)\n",
    "        cdf_1_c = 1 - cdf\n",
    "        pCrossing = np.zeros((x,y,z))\n",
    "        for l in range(x):\n",
    "            for m in range(y):\n",
    "                for n in range(z):\n",
    "                    if(l == x-1):\n",
    "                        pCrossing[l,m,n] = pCrossing[l-1,m,n]\n",
    "                    elif(m == y-1):\n",
    "                        pCrossing[l,m,n] = pCrossing[l,m-1,n]\n",
    "                    elif(n == z-1):\n",
    "                        pCrossing[l,m,n] = pCrossing[l,m,n-1]\n",
    "                    else:\n",
    "                        prob = cdf[l, m, n] * cdf[l+1, m, n] * cdf[l, m+1, n] * cdf[l, m, n+1] * cdf[l+1, m+1, n] * cdf[l+1, m, n+1] * cdf[l, m+1, n+1] * cdf[l+1, m+1, n+1]\n",
    "                        prob2 = cdf_1_c[l, m, n] * cdf_1_c[l+1, m, n] * cdf_1_c[l, m+1, n] * cdf_1_c[l, m, n+1] * cdf_1_c[l+1, m+1, n] * cdf_1_c[l+1, m, n+1] * cdf_1_c[l, m+1, n+1] * cdf_1_c[l+1, m+1, n+1]\n",
    "                        pCrossing[l, m, n] = 1 - prob - prob2\n",
    "    else:\n",
    "        x = interp_data.shape[0]\n",
    "        y = interp_data.shape[1]\n",
    "        cdf = np.zeros((x,y))\n",
    "        for i in range(x):\n",
    "            for j in range(y):\n",
    "                allcdf = np.cumsum(interp_data[i,j])\n",
    "                allcdf = np.hstack([0.0, allcdf])\n",
    "                cdf[i,j] = np.interp(isovalue, edge, allcdf, left=0, right=0)\n",
    "        cdf_1_c = 1 - cdf\n",
    "        pCrossing = np.zeros((x,y))\n",
    "        for k in range(x):\n",
    "            for l in range(y):\n",
    "                if(l == y-1):\n",
    "                    pCrossing[k,l] = pCrossing[k,l-1]\n",
    "                elif(k == x-1):\n",
    "                    pCrossing[k,l] = pCrossing[k-1,l]\n",
    "                else:\n",
    "                    prob = cdf[k, l] * cdf[k, l+1] * cdf[k+1, l] * cdf[k+1, l+1]\n",
    "                    prob2 = cdf_1_c[k, l] * cdf_1_c[k, l+1] * cdf_1_c[k+1, l] * cdf_1_c[k+1, l+1]\n",
    "                    pCrossing[k, l] = 1 - prob - prob2\n",
    "    return pCrossing            \n",
    "        "
   ]
  },
  {
   "cell_type": "code",
   "execution_count": 9,
   "metadata": {},
   "outputs": [],
   "source": [
    "def reconstruct_raw_bin(bin_data, x, y, z, TotalTimesteps, NumOfBins, NumOfEnsemble):\n",
    "    if(z != 0):\n",
    "       Reconted_data = np.zeros((TotalTimesteps, x, y, z, NumOfBins))\n",
    "       for bin in bin_data:\n",
    "           timestep = int(bin[0])\n",
    "           x_location = int(bin[1]//(y*z))\n",
    "           y_location = int((bin[1]%(y*z))//z)\n",
    "           z_location = int((bin[1]%(y*z))%z)\n",
    "           bin_index = int(bin[2])\n",
    "           bin_prob = bin[3]/NumOfEnsemble\n",
    "           Reconted_data[timestep, x_location, y_location, z_location, bin_index] = bin_prob\n",
    "    else:\n",
    "        Reconted_data = np.zeros((int(bin_data[:,0].max()+1), x, y, NumOfBins))\n",
    "        # Reconted_data = np.zeros((TotalTimesteps, x, y, NumOfBins))\n",
    "        for bin in bin_data:\n",
    "            timestep = int(bin[0])\n",
    "            x_location = int(bin[1]//y)\n",
    "            y_location = int(bin[1]%y)\n",
    "            if(y_location>=128):\n",
    "                bin_index = 127\n",
    "            bin_index = int(bin[2])\n",
    "            if(bin_index>=128):\n",
    "                bin_index = 127\n",
    "            bin_prob = bin[3]/NumOfEnsemble\n",
    "            Reconted_data[timestep, x_location, y_location, bin_index] = bin_prob\n",
    "    return Reconted_data"
   ]
  },
  {
   "cell_type": "code",
   "execution_count": 11,
   "metadata": {},
   "outputs": [],
   "source": [
    "air_data = np.load('Air_temp_160_320_ensemble60_timestep150.npy')"
   ]
  },
  {
   "cell_type": "code",
   "execution_count": 13,
   "metadata": {},
   "outputs": [],
   "source": [
    "path1 = 'C:\\\\Users\\\\User\\\\Desktop\\\\master thesis\\\\Experiment\\\\Tgmm_slic\\\\Airta\\\\180_320\\\\test_comp1_Slice_time(150)\\\\'\n",
    "edge_1 = np.fromfile(path1+'Air_temp_180_320_ensemble64_timestep_150.npy_comp1_edge_numOfBins_128_.bin', dtype=np.float32)\n",
    "model_1 = np.fromfile(path1+'Air_temp_180_320_ensemble64_timestep_150.npy_comp1_Gmm_data_Slic0_0_x3_y82090.bin', dtype=np.float32).reshape((3,82090))\n",
    "label_1 = np.fromfile(path1+'Air_temp_180_320_ensemble64_timestep_150.npy_comp1_Gmm_label.bin', dtype=np.float32)\n",
    "bin_data_1 = np.fromfile(path1+'Air_temp_180_320_ensemble64_timestep_150.npy_comp1_Tgmm_Slic_0_0_bin_data_x160_y320_z128_4.bin', dtype=np.float32).reshape((160,320,128,4))\n",
    "Reconted_comp1 = reconstruct(edge_1, bin_data_1, model_1, label_1)\n",
    "Reconted_data_comp1 = Reconted_comp1.all_reconstruct(150)\n",
    "# isocomp6 = Reconted_comp1.compute_isovalue(300)"
   ]
  },
  {
   "cell_type": "code",
   "execution_count": 20,
   "metadata": {},
   "outputs": [],
   "source": [
    "path3 = 'C:\\\\Users\\\\User\\\\Desktop\\\\master thesis\\\\Experiment\\\\Tgmm_slic\\\\Airta\\\\180_320\\\\comp3_slice_time(150)\\\\'\n",
    "edge_3 = np.fromfile(path3+'Air_temp_180_320_ensemble64_timestep_150.npy_comp3_edge_numOfBins_128_.bin', dtype=np.float32)\n",
    "model_3 = np.fromfile(path3+'Air_temp_180_320_ensemble64_timestep_150.npy_comp3_Gmm_data_Slic0_0_x3_y189455.bin', dtype=np.float32).reshape((3,189455))\n",
    "label_3 = np.fromfile(path3+'Air_temp_180_320_ensemble64_timestep_150.npy_comp3_Gmm_label.bin', dtype=np.float32)\n",
    "bin_data_3 = np.fromfile(path3+'Air_temp_180_320_ensemble64_timestep_150.npy_comp3_Tgmm_Slic_0_0_bin_data_x160_y320_z128_4.bin', dtype=np.float32).reshape((160,320,128,4))\n",
    "Reconted_comp3 = reconstruct(edge_3, bin_data_3, model_3, label_3)\n",
    "Reconted_data_comp3 = Reconted_comp3.all_reconstruct(150)\n",
    "# isocomp9 = Reconted_comp9.compute_isovalue(300)"
   ]
  },
  {
   "cell_type": "code",
   "execution_count": 21,
   "metadata": {},
   "outputs": [],
   "source": [
    "path5 = 'C:\\\\Users\\\\User\\\\Desktop\\\\master thesis\\\\Experiment\\\\Tgmm_slic\\\\Airta\\\\180_320\\\\comp5_slice_time(150)\\\\'\n",
    "edge_5 = np.fromfile(path5+'Air_temp_180_320_ensemble64_timestep_150.npy_comp5_edge_numOfBins_128_.bin', dtype=np.float32)\n",
    "model_5 = np.fromfile(path5+'Air_temp_180_320_ensemble64_timestep_150.npy_comp5_Gmm_data_Slic0_0_x3_y295401.bin', dtype=np.float32).reshape((3,295401))\n",
    "label_5 = np.fromfile(path5+'Air_temp_180_320_ensemble64_timestep_150.npy_comp5_Gmm_label.bin', dtype=np.float32)\n",
    "bin_data_5 = np.fromfile(path5+'Air_temp_180_320_ensemble64_timestep_150.npy_comp5_Tgmm_Slic_0_0_bin_data_x160_y320_z128_4.bin', dtype=np.float32).reshape((160,320,128,4))\n",
    "Reconted_comp5 = reconstruct(edge_5, bin_data_5, model_5, label_5)\n",
    "Reconted_data_comp5 = Reconted_comp5.all_reconstruct(150)\n",
    "# isocomp9 = Reconted_comp9.compute_isovalue(300)"
   ]
  },
  {
   "cell_type": "code",
   "execution_count": 63,
   "metadata": {},
   "outputs": [],
   "source": [
    "path7 = 'C:\\\\Users\\\\User\\\\Desktop\\\\master thesis\\\\Experiment\\\\Tgmm_slic\\\\Airta\\\\180_320\\\\comp7_slice_time(150)\\\\'\n",
    "edge_7 = np.fromfile(path7+'Air_temp_180_320_ensemble64_timestep_150.npy_comp7_edge_numOfBins_128_.bin', dtype=np.float32)\n",
    "model_7 = np.fromfile(path7+'Air_temp_180_320_ensemble64_timestep_150.npy_comp7_Gmm_data_Slic0_0_x3_y390369.bin', dtype=np.float32).reshape((3,390369))\n",
    "label_7 = np.fromfile(path7+'Air_temp_180_320_ensemble64_timestep_150.npy_comp7_Gmm_label.bin', dtype=np.float32)\n",
    "bin_data_7 = np.fromfile(path7+'Air_temp_180_320_ensemble64_timestep_150.npy_comp7_Tgmm_Slic_0_0_bin_data_x160_y320_z128_4.bin', dtype=np.float32).reshape((160,320,128,4))\n",
    "Reconted_comp7 = reconstruct(edge_7, bin_data_7, model_7, label_7)\n",
    "# Reconted_data_comp7 = Reconted_comp7.all_reconstruct(150)\n",
    "# isocomp9 = Reconted_comp9.compute_isovalue(300)"
   ]
  },
  {
   "cell_type": "code",
   "execution_count": 15,
   "metadata": {},
   "outputs": [],
   "source": [
    "air_raw_reconted = np.fromfile('air_raw_reconted_150_160_320_128.bin', dtype='float32').reshape((150,160,320,128))"
   ]
  },
  {
   "cell_type": "code",
   "execution_count": 64,
   "metadata": {},
   "outputs": [],
   "source": [
    "air_raw_iso_time49_iso300 = Reconted_comp7.compute_isovalue(air_raw_reconted[0],280)"
   ]
  },
  {
   "cell_type": "code",
   "execution_count": 65,
   "metadata": {},
   "outputs": [
    {
     "data": {
      "text/plain": [
       "<matplotlib.colorbar.Colorbar at 0x1440a042530>"
      ]
     },
     "execution_count": 65,
     "metadata": {},
     "output_type": "execute_result"
    },
    {
     "data": {
      "image/png": "[encoded data removed]",
      "text/plain": [
       "<Figure size 432x288 with 2 Axes>"
      ]
     },
     "metadata": {
      "needs_background": "light"
     },
     "output_type": "display_data"
    }
   ],
   "source": [
    "plt.imshow(air_raw_iso_time49_iso300, cmap='coolwarm')\n",
    "plt.colorbar()"
   ]
  },
  {
   "cell_type": "code",
   "execution_count": 16,
   "metadata": {},
   "outputs": [
    {
     "name": "stdout",
     "output_type": "stream",
     "text": [
      "air ta interp 10 error:  0.055608517260132495\n"
     ]
    }
   ],
   "source": [
    "air_data = np.load('Air_temp_180_320_ensemble60_timestep150.npy')\n",
    "inter_ta_error = np.zeros(150)\n",
    "for i in range(150):\n",
    "    inter_ta_error[i] = compute_error(interpolated_hist(air_data, 150, 60, 10, i), air_raw_reconted[i])\n",
    "inter_ta_error.astype('float32').tofile('air_ta_interp_10_error.bin')\n",
    "print('air ta interp 10 error: ', np.sum(inter_ta_error)/150)"
   ]
  },
  {
   "cell_type": "code",
   "execution_count": 16,
   "metadata": {},
   "outputs": [
    {
     "name": "stdout",
     "output_type": "stream",
     "text": [
      "0.049652614037933\n"
     ]
    }
   ],
   "source": [
    "comp1_error = np.zeros(150)\n",
    "for i in range(150):\n",
    "    comp1_error[i] = compute_error(Reconted_data_comp1[:,:,:,i], air_raw_reconted[i])\n",
    "print(np.sum(comp1_error)/150)"
   ]
  },
  {
   "cell_type": "code",
   "execution_count": 18,
   "metadata": {},
   "outputs": [],
   "source": [
    "comp1_error.astype('float32').tofile('Air_temp_160_320_comp1_time150_error.bin')"
   ]
  },
  {
   "cell_type": "code",
   "execution_count": 22,
   "metadata": {},
   "outputs": [
    {
     "name": "stdout",
     "output_type": "stream",
     "text": [
      "comp3 error: 0.04917579830223271\n",
      "comp5 error: 0.04880655823549564\n"
     ]
    }
   ],
   "source": [
    "comp3_error = np.zeros(150)\n",
    "comp5_error = np.zeros(150)\n",
    "for i in range(150):\n",
    "    comp3_error[i] = compute_error(Reconted_data_comp3[:,:,:,i], air_raw_reconted[i])\n",
    "    comp5_error[i] = compute_error(Reconted_data_comp5[:,:,:,i], air_raw_reconted[i])\n",
    "print('comp3 error:', np.sum(comp3_error)/150)\n",
    "print('comp5 error:', np.sum(comp5_error)/150)"
   ]
  },
  {
   "cell_type": "code",
   "execution_count": 26,
   "metadata": {},
   "outputs": [],
   "source": [
    "comp3_error.astype('float32').tofile('Air_temp_160_320_comp3_time150_error.bin')\n",
    "comp5_error.astype('float32').tofile('Air_temp_160_320_comp5_time150_error.bin')"
   ]
  },
  {
   "cell_type": "code",
   "execution_count": 44,
   "metadata": {},
   "outputs": [
    {
     "name": "stdout",
     "output_type": "stream",
     "text": [
      "0.04684423966187049\n"
     ]
    }
   ],
   "source": [
    "comp7_error = np.zeros(150)\n",
    "for i in range(150):\n",
    "    comp7_error[i] = compute_error(Reconted_data_comp7[:,:,:,i], air_raw_reconted[i])\n",
    "print(np.sum(comp7_error)/150)\n",
    "comp7_error.astype('float32').tofile('Air_temp_160_320_comp7_time150_error.bin')"
   ]
  },
  {
   "cell_type": "code",
   "execution_count": 28,
   "metadata": {},
   "outputs": [],
   "source": [
    "path_1_0_74 = 'C:\\\\Users\\\\User\\\\Desktop\\\\master thesis\\\\Experiment\\\\Tgmm_slic\\\\Airta\\\\180_320\\\\comp1_slice_time(75)\\\\0-74\\\\'\n",
    "edge_1_0_74 = np.fromfile(path_1_0_74+'Air_temp_180_320_ensemble64_timestep_0-74.npy_comp1_edge_numOfBins_128_.bin', dtype=np.float32)\n",
    "model_1_0_74 = np.fromfile(path_1_0_74+'Air_temp_180_320_ensemble64_timestep_0-74.npy_comp1_Gmm_data_Slic0_0_x3_y42624.bin', dtype=np.float32).reshape((3,42624))\n",
    "label_1_0_74 = np.fromfile(path_1_0_74+'Air_temp_180_320_ensemble64_timestep_0-74.npy_comp1_Gmm_label.bin', dtype=np.float32)\n",
    "bin_data_1_0_74 = np.fromfile(path_1_0_74+'Air_temp_180_320_ensemble64_timestep_0-74.npy_comp1_Tgmm_Slic_0_0_bin_data_x160_y320_z128_4.bin', dtype=np.float32).reshape((160,320,128,4))\n",
    "Reconted_1_0_74 = reconstruct(edge_1_0_74, bin_data_1_0_74, model_1_0_74, label_1_0_74)\n",
    "Reconted_data_1_0_74 = Reconted_1_0_74.all_reconstruct(75)\n",
    "\n",
    "path_1_74_149 = 'C:\\\\Users\\\\User\\\\Desktop\\\\master thesis\\\\Experiment\\\\Tgmm_slic\\\\Airta\\\\180_320\\\\comp1_slice_time(75)\\\\75-149\\\\'\n",
    "edge_1_74_149 = np.fromfile(path_1_74_149+'Air_temp_180_320_ensemble64_timestep_75-149.npy_comp1_edge_numOfBins_128_.bin', dtype=np.float32)\n",
    "model_1_74_149 = np.fromfile(path_1_74_149+'Air_temp_180_320_ensemble64_timestep_75-149.npy_comp1_Gmm_data_Slic0_0_x3_y40766.bin', dtype=np.float32).reshape((3,40766))\n",
    "label_1_74_149 = np.fromfile(path_1_74_149+'Air_temp_180_320_ensemble64_timestep_75-149.npy_comp1_Gmm_label.bin', dtype=np.float32)\n",
    "bin_data_1_74_149 = np.fromfile(path_1_74_149+'Air_temp_180_320_ensemble64_timestep_75-149.npy_comp1_Tgmm_Slic_0_0_bin_data_x160_y320_z128_4.bin', dtype=np.float32).reshape((160,320,128,4))\n",
    "Reconted_1_74_149= reconstruct(edge_1_74_149, bin_data_1_74_149, model_1_74_149, label_1_74_149)\n",
    "Reconted_data_1_74_149 = Reconted_1_74_149.all_reconstruct(75)"
   ]
  },
  {
   "cell_type": "code",
   "execution_count": 29,
   "metadata": {},
   "outputs": [],
   "source": [
    "path_3_0_74 = 'C:\\\\Users\\\\User\\\\Desktop\\\\master thesis\\\\Experiment\\\\Tgmm_slic\\\\Airta\\\\180_320\\\\comp3_slice_time(75)\\\\0-74\\\\'\n",
    "edge_3_0_74 = np.fromfile(path_3_0_74+'Air_temp_180_320_ensemble64_timestep_0-74.npy_comp3_edge_numOfBins_128_.bin', dtype=np.float32)\n",
    "model_3_0_74 = np.fromfile(path_3_0_74+'Air_temp_180_320_ensemble64_timestep_0-74.npy_comp3_Gmm_data_Slic0_0_x3_y122505.bin', dtype=np.float32).reshape((3,122505))\n",
    "label_3_0_74 = np.fromfile(path_3_0_74+'Air_temp_180_320_ensemble64_timestep_0-74.npy_comp3_Gmm_label.bin', dtype=np.float32)\n",
    "bin_data_3_0_74 = np.fromfile(path_3_0_74+'Air_temp_180_320_ensemble64_timestep_0-74.npy_comp3_Tgmm_Slic_0_0_bin_data_x160_y320_z128_4.bin', dtype=np.float32).reshape((160,320,128,4))\n",
    "Reconted_3_0_74 = reconstruct(edge_3_0_74, bin_data_3_0_74, model_3_0_74, label_3_0_74)\n",
    "Reconted_data_3_0_74 = Reconted_3_0_74.all_reconstruct(75)\n",
    "\n",
    "path_3_74_149 = 'C:\\\\Users\\\\User\\\\Desktop\\\\master thesis\\\\Experiment\\\\Tgmm_slic\\\\Airta\\\\180_320\\\\comp3_slice_time(75)\\\\75-149\\\\'\n",
    "edge_3_74_149 = np.fromfile(path_3_74_149+'Air_temp_180_320_ensemble64_timestep_75-149.npy_comp3_edge_numOfBins_128_.bin', dtype=np.float32)\n",
    "model_3_74_149 = np.fromfile(path_3_74_149+'Air_temp_180_320_ensemble64_timestep_75-149.npy_comp3_Gmm_data_Slic0_0_x3_y117239.bin', dtype=np.float32).reshape((3,117239))\n",
    "label_3_74_149 = np.fromfile(path_3_74_149+'Air_temp_180_320_ensemble64_timestep_75-149.npy_comp3_Gmm_label.bin', dtype=np.float32)\n",
    "bin_data_3_74_149 = np.fromfile(path_3_74_149+'Air_temp_180_320_ensemble64_timestep_75-149.npy_comp3_Tgmm_Slic_0_0_bin_data_x160_y320_z128_4.bin', dtype=np.float32).reshape((160,320,128,4))\n",
    "Reconted_3_74_149= reconstruct(edge_3_74_149, bin_data_3_74_149, model_3_74_149, label_3_74_149)\n",
    "Reconted_data_3_74_149 = Reconted_3_74_149.all_reconstruct(75)"
   ]
  },
  {
   "cell_type": "code",
   "execution_count": 30,
   "metadata": {},
   "outputs": [],
   "source": [
    "path_5_0_74 = 'C:\\\\Users\\\\User\\\\Desktop\\\\master thesis\\\\Experiment\\\\Tgmm_slic\\\\Airta\\\\180_320\\\\comp5_slice_time(75)\\\\0-74\\\\'\n",
    "edge_5_0_74 = np.fromfile(path_5_0_74+'Air_temp_180_320_ensemble64_timestep_0-74.npy_comp5_edge_numOfBins_128_.bin', dtype=np.float32)\n",
    "model_5_0_74 = np.fromfile(path_5_0_74+'Air_temp_180_320_ensemble64_timestep_0-74.npy_comp5_Gmm_data_Slic0_0_x3_y189358.bin', dtype=np.float32).reshape((3,189358))\n",
    "label_5_0_74 = np.fromfile(path_5_0_74+'Air_temp_180_320_ensemble64_timestep_0-74.npy_comp5_Gmm_label.bin', dtype=np.float32)\n",
    "bin_data_5_0_74 = np.fromfile(path_5_0_74+'Air_temp_180_320_ensemble64_timestep_0-74.npy_comp5_Tgmm_Slic_0_0_bin_data_x160_y320_z128_4.bin', dtype=np.float32).reshape((160,320,128,4))\n",
    "Reconted_5_0_74 = reconstruct(edge_5_0_74, bin_data_5_0_74, model_5_0_74, label_5_0_74)\n",
    "Reconted_data_5_0_74 = Reconted_5_0_74.all_reconstruct(75)\n",
    "\n",
    "path_5_74_149 = 'C:\\\\Users\\\\User\\\\Desktop\\\\master thesis\\\\Experiment\\\\Tgmm_slic\\\\Airta\\\\180_320\\\\comp5_slice_time(75)\\\\75-149\\\\'\n",
    "edge_5_74_149 = np.fromfile(path_5_74_149+'Air_temp_180_320_ensemble64_timestep_75-149.npy_comp5_edge_numOfBins_128_.bin', dtype=np.float32)\n",
    "model_5_74_149 = np.fromfile(path_5_74_149+'Air_temp_180_320_ensemble64_timestep_75-149.npy_comp5_Gmm_data_Slic0_0_x3_y181678.bin', dtype=np.float32).reshape((3,181678))\n",
    "label_5_74_149 = np.fromfile(path_5_74_149+'Air_temp_180_320_ensemble64_timestep_75-149.npy_comp5_Gmm_label.bin', dtype=np.float32)\n",
    "bin_data_5_74_149 = np.fromfile(path_5_74_149+'Air_temp_180_320_ensemble64_timestep_75-149.npy_comp5_Tgmm_Slic_0_0_bin_data_x160_y320_z128_4.bin', dtype=np.float32).reshape((160,320,128,4))\n",
    "Reconted_5_74_149= reconstruct(edge_5_74_149, bin_data_5_74_149, model_5_74_149, label_5_74_149)\n",
    "Reconted_data_5_74_149 = Reconted_5_74_149.all_reconstruct(75)"
   ]
  },
  {
   "cell_type": "code",
   "execution_count": 70,
   "metadata": {},
   "outputs": [],
   "source": [
    "path_7_0_74 = 'C:\\\\Users\\\\User\\\\Desktop\\\\master thesis\\\\Experiment\\\\Tgmm_slic\\\\Airta\\\\180_320\\\\comp7_slice_time(75)\\\\0-74\\\\'\n",
    "edge_7_0_74 = np.fromfile(path_7_0_74+'Air_temp_180_320_ensemble64_timestep_0-74.npy_comp7_edge_numOfBins_128_.bin', dtype=np.float32)\n",
    "model_7_0_74 = np.fromfile(path_7_0_74+'Air_temp_180_320_ensemble64_timestep_0-74.npy_comp7_Gmm_data_Slic0_0_x3_y251381.bin', dtype=np.float32).reshape((3,251381))\n",
    "label_7_0_74 = np.fromfile(path_7_0_74+'Air_temp_180_320_ensemble64_timestep_0-74.npy_comp7_Gmm_label.bin', dtype=np.float32)\n",
    "bin_data_7_0_74 = np.fromfile(path_7_0_74+'Air_temp_180_320_ensemble64_timestep_0-74.npy_comp7_Tgmm_Slic_0_0_bin_data_x160_y320_z128_4.bin', dtype=np.float32).reshape((160,320,128,4))\n",
    "Reconted_7_0_74 = reconstruct(edge_7_0_74, bin_data_7_0_74, model_7_0_74, label_7_0_74)\n",
    "Reconted_data_7_0_74 = Reconted_7_0_74.all_reconstruct(75)\n",
    "\n",
    "path_7_74_149 = 'C:\\\\Users\\\\User\\\\Desktop\\\\master thesis\\\\Experiment\\\\Tgmm_slic\\\\Airta\\\\180_320\\\\comp7_slice_time(75)\\\\75-149\\\\'\n",
    "edge_7_74_149 = np.fromfile(path_7_74_149+'Air_temp_180_320_ensemble64_timestep_75-149.npy_comp7_edge_numOfBins_128_.bin', dtype=np.float32)\n",
    "model_7_74_149 = np.fromfile(path_7_74_149+'Air_temp_180_320_ensemble64_timestep_75-149.npy_comp7_Gmm_data_Slic0_0_x3_y242021.bin', dtype=np.float32).reshape((3,242021))\n",
    "label_7_74_149 = np.fromfile(path_7_74_149+'Air_temp_180_320_ensemble64_timestep_75-149.npy_comp7_Gmm_label.bin', dtype=np.float32)\n",
    "bin_data_7_74_149 = np.fromfile(path_7_74_149+'Air_temp_180_320_ensemble64_timestep_75-149.npy_comp7_Tgmm_Slic_0_0_bin_data_x160_y320_z128_4.bin', dtype=np.float32).reshape((160,320,128,4))\n",
    "Reconted_7_74_149= reconstruct(edge_7_74_149, bin_data_7_74_149, model_7_74_149, label_7_74_149)\n",
    "Reconted_data_7_74_149 = Reconted_7_74_149.all_reconstruct(75)"
   ]
  },
  {
   "cell_type": "code",
   "execution_count": 13,
   "metadata": {},
   "outputs": [
    {
     "name": "stdout",
     "output_type": "stream",
     "text": [
      "comp7_sliceTime_75_error:  0.02949421396601269\n"
     ]
    }
   ],
   "source": [
    "comp7_sliceTime_75_error = np.zeros(150)\n",
    "for i in range(150):\n",
    "    if(i<75):\n",
    "        comp7_sliceTime_75_error[i] = compute_error(Reconted_data_7_0_74 [:,:,:,i], air_raw_reconted[i])\n",
    "    else:\n",
    "        comp7_sliceTime_75_error[i] = compute_error(Reconted_data_7_74_149[:,:,:,i-75], air_raw_reconted[i])\n",
    "comp7_sliceTime_75_error.astype('float32').tofile('Air_temp_160_320_comp7_time75_error.bin')\n",
    "print('comp7_sliceTime_75_error: ', np.sum(comp7_sliceTime_75_error)/150)"
   ]
  },
  {
   "cell_type": "code",
   "execution_count": 31,
   "metadata": {},
   "outputs": [
    {
     "name": "stdout",
     "output_type": "stream",
     "text": [
      "comp1_sliceTime_75_error:  0.04918018849355621\n",
      "comp3_sliceTime_75_error:  0.04808691656280251\n",
      "comp5_sliceTime_75_error:  0.03873903765711059\n"
     ]
    }
   ],
   "source": [
    "comp1_sliceTime_75_error = np.zeros(150)\n",
    "comp3_sliceTime_75_error = np.zeros(150)\n",
    "comp5_sliceTime_75_error = np.zeros(150)\n",
    "for i in range(150):\n",
    "    if(i<75):\n",
    "        comp1_sliceTime_75_error[i] = compute_error(Reconted_data_1_0_74 [:,:,:,i], air_raw_reconted[i])\n",
    "        comp3_sliceTime_75_error[i] = compute_error(Reconted_data_3_0_74 [:,:,:,i], air_raw_reconted[i])\n",
    "        comp5_sliceTime_75_error[i] = compute_error(Reconted_data_5_0_74 [:,:,:,i], air_raw_reconted[i])\n",
    "    else:\n",
    "        comp1_sliceTime_75_error[i] = compute_error(Reconted_data_1_74_149[:,:,:,i-75], air_raw_reconted[i])\n",
    "        comp3_sliceTime_75_error[i] = compute_error(Reconted_data_3_74_149[:,:,:,i-75], air_raw_reconted[i])\n",
    "        comp5_sliceTime_75_error[i] = compute_error(Reconted_data_5_74_149[:,:,:,i-75], air_raw_reconted[i])\n",
    "comp1_sliceTime_75_error.astype('float32').tofile('Air_temp_160_320_comp1_time75_error.bin')\n",
    "comp3_sliceTime_75_error.astype('float32').tofile('Air_temp_160_320_comp3_time75_error.bin')\n",
    "comp5_sliceTime_75_error.astype('float32').tofile('Air_temp_160_320_comp5_time75_error.bin')\n",
    "print('comp1_sliceTime_75_error: ', np.sum(comp1_sliceTime_75_error)/150)\n",
    "print('comp3_sliceTime_75_error: ', np.sum(comp3_sliceTime_75_error)/150)\n",
    "print('comp5_sliceTime_75_error: ', np.sum(comp5_sliceTime_75_error)/150)"
   ]
  },
  {
   "cell_type": "code",
   "execution_count": 37,
   "metadata": {},
   "outputs": [],
   "source": [
    "path_1_0_49 = 'C:\\\\Users\\\\User\\\\Desktop\\\\master thesis\\\\Experiment\\\\Tgmm_slic\\\\Airta\\\\180_320\\\\comp1_slice_time(50)\\\\0-49\\\\'\n",
    "edge_1_0_49 = np.fromfile(path_1_0_49+'Air_temp_180_320_ensemble60_timestep_0-49.npy_comp1_edge_numOfBins_128_.bin', dtype=np.float32)\n",
    "model_1_0_49 = np.fromfile(path_1_0_49+'Air_temp_180_320_ensemble60_timestep_0-49.npy_comp1_Gmm_data_Slic0_0_x3_y35360.bin', dtype=np.float32).reshape((3,35360))\n",
    "label_1_0_49 = np.fromfile(path_1_0_49+'Air_temp_180_320_ensemble60_timestep_0-49.npy_comp1_Gmm_label.bin', dtype=np.float32)\n",
    "bin_data_1_0_49 = np.fromfile(path_1_0_49+'Air_temp_180_320_ensemble60_timestep_0-49.npy_comp1_Tgmm_Slic_0_0_bin_data_x160_y320_z128_4.bin', dtype=np.float32).reshape((160,320,128,4))\n",
    "Reconted_1_0_49 = reconstruct(edge_1_0_49, bin_data_1_0_49, model_1_0_49, label_1_0_49)\n",
    "Reconted_data_1_0_49 = Reconted_1_0_49.all_reconstruct(50)\n",
    "\n",
    "path_1_50_99 = 'C:\\\\Users\\\\User\\\\Desktop\\\\master thesis\\\\Experiment\\\\Tgmm_slic\\\\Airta\\\\180_320\\\\comp1_slice_time(50)\\\\50-99\\\\'\n",
    "edge_1_50_99 = np.fromfile(path_1_50_99+'Air_temp_180_320_ensemble60_timestep_50-99.npy_comp1_edge_numOfBins_128_.bin', dtype=np.float32)\n",
    "model_1_50_99 = np.fromfile(path_1_50_99+'Air_temp_180_320_ensemble60_timestep_50-99.npy_comp1_Gmm_data_Slic0_0_x3_y33552.bin', dtype=np.float32).reshape((3,33552))\n",
    "label_1_50_99 = np.fromfile(path_1_50_99+'Air_temp_180_320_ensemble60_timestep_50-99.npy_comp1_Gmm_label.bin', dtype=np.float32)\n",
    "bin_data_1_50_99 = np.fromfile(path_1_50_99+'Air_temp_180_320_ensemble60_timestep_50-99.npy_comp1_Tgmm_Slic_0_0_bin_data_x160_y320_z128_4.bin', dtype=np.float32).reshape((160,320,128,4))\n",
    "Reconted_1_50_99 = reconstruct(edge_1_50_99, bin_data_1_50_99, model_1_50_99, label_1_50_99)\n",
    "Reconted_data_1_50_99 = Reconted_1_50_99.all_reconstruct(50)\n",
    "\n",
    "path_1_100_149 = 'C:\\\\Users\\\\User\\\\Desktop\\\\master thesis\\\\Experiment\\\\Tgmm_slic\\\\Airta\\\\180_320\\\\comp1_slice_time(50)\\\\100-149\\\\'\n",
    "edge_1_100_149 = np.fromfile(path_1_100_149+'Air_temp_180_320_ensemble60_timestep_100-149.npy_comp1_edge_numOfBins_128_.bin', dtype=np.float32)\n",
    "model_1_100_149 = np.fromfile(path_1_100_149+'Air_temp_180_320_ensemble60_timestep_100-149.npy_comp1_Gmm_data_Slic0_0_x3_y34004.bin', dtype=np.float32).reshape((3,34004))\n",
    "label_1_100_149 = np.fromfile(path_1_100_149+'Air_temp_180_320_ensemble60_timestep_100-149.npy_comp1_Gmm_label.bin', dtype=np.float32)\n",
    "bin_data_1_100_149 = np.fromfile(path_1_100_149+'Air_temp_180_320_ensemble60_timestep_100-149.npy_comp1_Tgmm_Slic_0_0_bin_data_x160_y320_z128_4.bin', dtype=np.float32).reshape((160,320,128,4))\n",
    "Reconted_1_100_149 = reconstruct(edge_1_100_149, bin_data_1_100_149, model_1_100_149, label_1_100_149)\n",
    "Reconted_data_1_100_149 = Reconted_1_100_149.all_reconstruct(50)"
   ]
  },
  {
   "cell_type": "code",
   "execution_count": 39,
   "metadata": {},
   "outputs": [],
   "source": [
    "path_3_0_49 = 'C:\\\\Users\\\\User\\\\Desktop\\\\master thesis\\\\Experiment\\\\Tgmm_slic\\\\Airta\\\\180_320\\\\comp3_slice_time(50)\\\\0-49\\\\'\n",
    "edge_3_0_49 = np.fromfile(path_3_0_49+'Air_temp_180_320_ensemble60_timestep_0-49.npy_comp3_edge_numOfBins_128_.bin', dtype=np.float32)\n",
    "model_3_0_49 = np.fromfile(path_3_0_49+'Air_temp_180_320_ensemble60_timestep_0-49.npy_comp3_Gmm_data_Slic0_0_x3_y101879.bin', dtype=np.float32).reshape((3,101879))\n",
    "label_3_0_49 = np.fromfile(path_3_0_49+'Air_temp_180_320_ensemble60_timestep_0-49.npy_comp3_Gmm_label.bin', dtype=np.float32)\n",
    "bin_data_3_0_49 = np.fromfile(path_3_0_49+'Air_temp_180_320_ensemble60_timestep_0-49.npy_comp3_Tgmm_Slic_0_0_bin_data_x160_y320_z128_4.bin', dtype=np.float32).reshape((160,320,128,4))\n",
    "Reconted_3_0_49 = reconstruct(edge_3_0_49, bin_data_3_0_49, model_3_0_49, label_3_0_49)\n",
    "Reconted_data_3_0_49 = Reconted_3_0_49.all_reconstruct(50)\n",
    "\n",
    "path_3_50_99 = 'C:\\\\Users\\\\User\\\\Desktop\\\\master thesis\\\\Experiment\\\\Tgmm_slic\\\\Airta\\\\180_320\\\\comp3_slice_time(50)\\\\50-99\\\\'\n",
    "edge_3_50_99 = np.fromfile(path_3_50_99+'Air_temp_180_320_ensemble60_timestep_50-99.npy_comp3_edge_numOfBins_128_.bin', dtype=np.float32)\n",
    "model_3_50_99 = np.fromfile(path_3_50_99+'Air_temp_180_320_ensemble60_timestep_50-99.npy_comp3_Gmm_data_Slic0_0_x3_y96813.bin', dtype=np.float32).reshape((3,96813))\n",
    "label_3_50_99 = np.fromfile(path_3_50_99+'Air_temp_180_320_ensemble60_timestep_50-99.npy_comp3_Gmm_label.bin', dtype=np.float32)\n",
    "bin_data_3_50_99 = np.fromfile(path_3_50_99+'Air_temp_180_320_ensemble60_timestep_50-99.npy_comp3_Tgmm_Slic_0_0_bin_data_x160_y320_z128_4.bin', dtype=np.float32).reshape((160,320,128,4))\n",
    "Reconted_3_50_99 = reconstruct(edge_3_50_99, bin_data_3_50_99, model_3_50_99, label_3_50_99)\n",
    "Reconted_data_3_50_99 = Reconted_3_50_99.all_reconstruct(50)\n",
    "\n",
    "path_3_100_149 = 'C:\\\\Users\\\\User\\\\Desktop\\\\master thesis\\\\Experiment\\\\Tgmm_slic\\\\Airta\\\\180_320\\\\comp3_slice_time(50)\\\\100-149\\\\'\n",
    "edge_3_100_149 = np.fromfile(path_3_100_149+'Air_temp_180_320_ensemble60_timestep_100-149.npy_comp3_edge_numOfBins_128_.bin', dtype=np.float32)\n",
    "model_3_100_149 = np.fromfile(path_3_100_149+'Air_temp_180_320_ensemble60_timestep_100-149.npy_comp3_Gmm_data_Slic0_0_x3_y97534.bin', dtype=np.float32).reshape((3,97534))\n",
    "label_3_100_149 = np.fromfile(path_3_100_149+'Air_temp_180_320_ensemble60_timestep_100-149.npy_comp3_Gmm_label.bin', dtype=np.float32)\n",
    "bin_data_3_100_149 = np.fromfile(path_3_100_149+'Air_temp_180_320_ensemble60_timestep_100-149.npy_comp3_Tgmm_Slic_0_0_bin_data_x160_y320_z128_4.bin', dtype=np.float32).reshape((160,320,128,4))\n",
    "Reconted_3_100_149 = reconstruct(edge_3_100_149, bin_data_3_100_149, model_3_100_149, label_3_100_149)\n",
    "Reconted_data_3_100_149 = Reconted_3_100_149.all_reconstruct(50)"
   ]
  },
  {
   "cell_type": "code",
   "execution_count": 40,
   "metadata": {},
   "outputs": [],
   "source": [
    "path_5_0_49 = 'C:\\\\Users\\\\User\\\\Desktop\\\\master thesis\\\\Experiment\\\\Tgmm_slic\\\\Airta\\\\180_320\\\\comp5_slice_time(50)\\\\0-49\\\\'\n",
    "edge_5_0_49 = np.fromfile(path_5_0_49+'Air_temp_180_320_ensemble60_timestep_0-49.npy_comp5_edge_numOfBins_128_.bin', dtype=np.float32)\n",
    "model_5_0_49 = np.fromfile(path_5_0_49+'Air_temp_180_320_ensemble60_timestep_0-49.npy_comp5_Gmm_data_Slic0_0_x3_y160187.bin', dtype=np.float32).reshape((3,160187))\n",
    "label_5_0_49 = np.fromfile(path_5_0_49+'Air_temp_180_320_ensemble60_timestep_0-49.npy_comp5_Gmm_label.bin', dtype=np.float32)\n",
    "bin_data_5_0_49 = np.fromfile(path_5_0_49+'Air_temp_180_320_ensemble60_timestep_0-49.npy_comp5_Tgmm_Slic_0_0_bin_data_x160_y320_z128_4.bin', dtype=np.float32).reshape((160,320,128,4))\n",
    "Reconted_5_0_49 = reconstruct(edge_5_0_49, bin_data_5_0_49, model_5_0_49, label_5_0_49)\n",
    "Reconted_data_5_0_49 = Reconted_5_0_49.all_reconstruct(50)\n",
    "\n",
    "path_5_50_99 = 'C:\\\\Users\\\\User\\\\Desktop\\\\master thesis\\\\Experiment\\\\Tgmm_slic\\\\Airta\\\\180_320\\\\comp5_slice_time(50)\\\\50-99\\\\'\n",
    "edge_5_50_99 = np.fromfile(path_5_50_99+'Air_temp_180_320_ensemble60_timestep_50-99.npy_comp5_edge_numOfBins_128_.bin', dtype=np.float32)\n",
    "model_5_50_99 = np.fromfile(path_5_50_99+'Air_temp_180_320_ensemble60_timestep_50-99.npy_comp5_Gmm_data_Slic0_0_x3_y153337.bin', dtype=np.float32).reshape((3,153337))\n",
    "label_5_50_99 = np.fromfile(path_5_50_99+'Air_temp_180_320_ensemble60_timestep_50-99.npy_comp5_Gmm_label.bin', dtype=np.float32)\n",
    "bin_data_5_50_99 = np.fromfile(path_5_50_99+'Air_temp_180_320_ensemble60_timestep_50-99.npy_comp5_Tgmm_Slic_0_0_bin_data_x160_y320_z128_4.bin', dtype=np.float32).reshape((160,320,128,4))\n",
    "Reconted_5_50_99 = reconstruct(edge_5_50_99, bin_data_5_50_99, model_5_50_99, label_5_50_99)\n",
    "Reconted_data_5_50_99 = Reconted_5_50_99.all_reconstruct(50)\n",
    "\n",
    "path_5_100_149 = 'C:\\\\Users\\\\User\\\\Desktop\\\\master thesis\\\\Experiment\\\\Tgmm_slic\\\\Airta\\\\180_320\\\\comp5_slice_time(50)\\\\100-149\\\\'\n",
    "edge_5_100_149 = np.fromfile(path_5_100_149+'Air_temp_180_320_ensemble60_timestep_100-149.npy_comp5_edge_numOfBins_128_.bin', dtype=np.float32)\n",
    "model_5_100_149 = np.fromfile(path_5_100_149+'Air_temp_180_320_ensemble60_timestep_100-149.npy_comp5_Gmm_data_Slic0_0_x3_y153568.bin', dtype=np.float32).reshape((3,153568))\n",
    "label_5_100_149 = np.fromfile(path_5_100_149+'Air_temp_180_320_ensemble60_timestep_100-149.npy_comp5_Gmm_label.bin', dtype=np.float32)\n",
    "bin_data_5_100_149 = np.fromfile(path_5_100_149+'Air_temp_180_320_ensemble60_timestep_100-149.npy_comp5_Tgmm_Slic_0_0_bin_data_x160_y320_z128_4.bin', dtype=np.float32).reshape((160,320,128,4))\n",
    "Reconted_5_100_149 = reconstruct(edge_5_100_149, bin_data_5_100_149, model_5_100_149, label_5_100_149)\n",
    "Reconted_data_5_100_149 = Reconted_5_100_149.all_reconstruct(50)"
   ]
  },
  {
   "cell_type": "code",
   "execution_count": 80,
   "metadata": {},
   "outputs": [],
   "source": [
    "path_7_0_49 = 'C:\\\\Users\\\\User\\\\Desktop\\\\master thesis\\\\Experiment\\\\Tgmm_slic\\\\Airta\\\\180_320\\\\comp7_slice_time(50)\\\\0-49\\\\'\n",
    "edge_7_0_49 = np.fromfile(path_7_0_49+'Air_temp_180_320_ensemble60_timestep_0-49.npy_comp7_edge_numOfBins_128_.bin', dtype=np.float32)\n",
    "model_7_0_49 = np.fromfile(path_7_0_49+'Air_temp_180_320_ensemble60_timestep_0-49.npy_comp7_Gmm_data_Slic0_0_x3_y216139.bin', dtype=np.float32).reshape((3,216139))\n",
    "label_7_0_49 = np.fromfile(path_7_0_49+'Air_temp_180_320_ensemble60_timestep_0-49.npy_comp7_Gmm_label.bin', dtype=np.float32)\n",
    "bin_data_7_0_49 = np.fromfile(path_7_0_49+'Air_temp_180_320_ensemble60_timestep_0-49.npy_comp7_Tgmm_Slic_0_0_bin_data_x160_y320_z128_4.bin', dtype=np.float32).reshape((160,320,128,4))\n",
    "Reconted_7_0_49 = reconstruct(edge_7_0_49, bin_data_7_0_49, model_7_0_49, label_7_0_49)\n",
    "Reconted_data_7_0_49 = Reconted_7_0_49.all_reconstruct(50)\n",
    "\n",
    "path_7_50_99 = 'C:\\\\Users\\\\User\\\\Desktop\\\\master thesis\\\\Experiment\\\\Tgmm_slic\\\\Airta\\\\180_320\\\\comp7_slice_time(50)\\\\50-99\\\\'\n",
    "edge_7_50_99 = np.fromfile(path_7_50_99+'Air_temp_180_320_ensemble60_timestep_50-99.npy_comp7_edge_numOfBins_128_.bin', dtype=np.float32)\n",
    "model_7_50_99 = np.fromfile(path_7_50_99+'Air_temp_180_320_ensemble60_timestep_50-99.npy_comp7_Gmm_data_Slic0_0_x3_y208193.bin', dtype=np.float32).reshape((3,208193))\n",
    "label_7_50_99 = np.fromfile(path_7_50_99+'Air_temp_180_320_ensemble60_timestep_50-99.npy_comp7_Gmm_label.bin', dtype=np.float32)\n",
    "bin_data_7_50_99 = np.fromfile(path_7_50_99+'Air_temp_180_320_ensemble60_timestep_50-99.npy_comp7_Tgmm_Slic_0_0_bin_data_x160_y320_z128_4.bin', dtype=np.float32).reshape((160,320,128,4))\n",
    "Reconted_7_50_99 = reconstruct(edge_7_50_99, bin_data_7_50_99, model_7_50_99, label_7_50_99)\n",
    "Reconted_data_7_50_99 = Reconted_7_50_99.all_reconstruct(50)\n",
    "\n",
    "path_7_100_149 = 'C:\\\\Users\\\\User\\\\Desktop\\\\master thesis\\\\Experiment\\\\Tgmm_slic\\\\Airta\\\\180_320\\\\comp7_slice_time(50)\\\\100-149\\\\'\n",
    "edge_7_100_149 = np.fromfile(path_7_100_149+'Air_temp_180_320_ensemble60_timestep_100-149.npy_comp7_edge_numOfBins_128_.bin', dtype=np.float32)\n",
    "model_7_100_149 = np.fromfile(path_7_100_149+'Air_temp_180_320_ensemble60_timestep_100-149.npy_comp7_Gmm_data_Slic0_0_x3_y207869.bin', dtype=np.float32).reshape((3,207869))\n",
    "label_7_100_149 = np.fromfile(path_7_100_149+'Air_temp_180_320_ensemble60_timestep_100-149.npy_comp7_Gmm_label.bin', dtype=np.float32)\n",
    "bin_data_7_100_149 = np.fromfile(path_7_100_149+'Air_temp_180_320_ensemble60_timestep_100-149.npy_comp7_Tgmm_Slic_0_0_bin_data_x160_y320_z128_4.bin', dtype=np.float32).reshape((160,320,128,4))\n",
    "Reconted_7_100_149 = reconstruct(edge_7_100_149, bin_data_7_100_149, model_7_100_149, label_7_100_149)\n",
    "Reconted_data_7_100_149 = Reconted_7_100_149.all_reconstruct(50)"
   ]
  },
  {
   "cell_type": "code",
   "execution_count": 81,
   "metadata": {},
   "outputs": [],
   "source": [
    "airtemp_7_50_error = np.fromfile('Air_temp_160_320_comp7_time50_error.bin',dtype='float32')"
   ]
  },
  {
   "cell_type": "code",
   "execution_count": 15,
   "metadata": {},
   "outputs": [
    {
     "name": "stdout",
     "output_type": "stream",
     "text": [
      "comp7_sliceTime_50_error:  0.027109119970298745\n"
     ]
    }
   ],
   "source": [
    "comp7_sliceTime_50_error = np.zeros(150)\n",
    "for i in range(150):\n",
    "    if(i<50):\n",
    "        comp7_sliceTime_50_error[i] = compute_error(Reconted_data_7_0_49[:,:,:,i], air_raw_reconted[i])\n",
    "    elif(i<100):\n",
    "        comp7_sliceTime_50_error[i] = compute_error(Reconted_data_7_50_99[:,:,:,i-50], air_raw_reconted[i])\n",
    "    else:\n",
    "        comp7_sliceTime_50_error[i] = compute_error(Reconted_data_7_100_149[:,:,:,i-100], air_raw_reconted[i])\n",
    "comp7_sliceTime_50_error.astype('float32').tofile('Air_temp_160_320_comp7_time50_error.bin')\n",
    "print('comp7_sliceTime_50_error: ', np.sum(comp7_sliceTime_50_error)/150)"
   ]
  },
  {
   "cell_type": "code",
   "execution_count": 41,
   "metadata": {},
   "outputs": [
    {
     "name": "stdout",
     "output_type": "stream",
     "text": [
      "comp1_sliceTime_50_error:  0.04886602141001189\n",
      "comp3_sliceTime_50_error:  0.04172344361712547\n",
      "comp5_sliceTime_50_error:  0.029096196307672316\n"
     ]
    }
   ],
   "source": [
    "comp1_sliceTime_50_error = np.zeros(150)\n",
    "comp3_sliceTime_50_error = np.zeros(150)\n",
    "comp5_sliceTime_50_error = np.zeros(150)\n",
    "for i in range(150):\n",
    "    if(i<50):\n",
    "        comp1_sliceTime_50_error[i] = compute_error(Reconted_data_1_0_49[:,:,:,i], air_raw_reconted[i])\n",
    "        comp3_sliceTime_50_error[i] = compute_error(Reconted_data_3_0_49[:,:,:,i], air_raw_reconted[i])\n",
    "        comp5_sliceTime_50_error[i] = compute_error(Reconted_data_5_0_49[:,:,:,i], air_raw_reconted[i])\n",
    "    elif(i<100):\n",
    "        comp1_sliceTime_50_error[i] = compute_error(Reconted_data_1_50_99[:,:,:,i-50], air_raw_reconted[i])\n",
    "        comp3_sliceTime_50_error[i] = compute_error(Reconted_data_3_50_99[:,:,:,i-50], air_raw_reconted[i])\n",
    "        comp5_sliceTime_50_error[i] = compute_error(Reconted_data_5_50_99[:,:,:,i-50], air_raw_reconted[i])\n",
    "    else:\n",
    "        comp1_sliceTime_50_error[i] = compute_error(Reconted_data_1_100_149[:,:,:,i-100], air_raw_reconted[i])\n",
    "        comp3_sliceTime_50_error[i] = compute_error(Reconted_data_3_100_149[:,:,:,i-100], air_raw_reconted[i])\n",
    "        comp5_sliceTime_50_error[i] = compute_error(Reconted_data_5_100_149[:,:,:,i-100], air_raw_reconted[i])\n",
    "comp1_sliceTime_50_error.astype('float32').tofile('Air_temp_160_320_comp1_time50_error.bin')\n",
    "comp3_sliceTime_50_error.astype('float32').tofile('Air_temp_160_320_comp3_time50_error.bin')\n",
    "comp5_sliceTime_50_error.astype('float32').tofile('Air_temp_160_320_comp5_time50_error.bin')\n",
    "\n",
    "print('comp1_sliceTime_50_error: ', np.sum(comp1_sliceTime_50_error)/150)\n",
    "print('comp3_sliceTime_50_error: ', np.sum(comp3_sliceTime_50_error)/150)\n",
    "print('comp5_sliceTime_50_error: ', np.sum(comp5_sliceTime_50_error)/150)"
   ]
  },
  {
   "cell_type": "code",
   "execution_count": 94,
   "metadata": {},
   "outputs": [],
   "source": [
    "air_data = np.load('Air_temp_180_320_ensemble60_timestep150.npy')"
   ]
  },
  {
   "cell_type": "code",
   "execution_count": 118,
   "metadata": {},
   "outputs": [],
   "source": [
    "inter_10 = interpolated_hist(air_data, 150, 60, 10, 37)\n",
    "inter_iso = compute_interp_isovalue(inter_10, edge_7_0_49, 290)"
   ]
  },
  {
   "cell_type": "code",
   "execution_count": 119,
   "metadata": {},
   "outputs": [],
   "source": [
    "airtemp_7_50_time_1_iso = Reconted_7_0_49.compute_isovalue(Reconted_data_7_0_49[:,:,:,37],290)"
   ]
  },
  {
   "cell_type": "code",
   "execution_count": 120,
   "metadata": {},
   "outputs": [],
   "source": [
    "air_raw_iso = Reconted_comp7.compute_isovalue(air_raw_reconted[37],290)"
   ]
  },
  {
   "cell_type": "code",
   "execution_count": 162,
   "metadata": {},
   "outputs": [],
   "source": [
    "sz_air_reconted = np.fromfile('sz_air__reconted_151_160_320_128.bin',dtype='float32').reshape((150,160,320,128))"
   ]
  },
  {
   "cell_type": "code",
   "execution_count": 165,
   "metadata": {},
   "outputs": [],
   "source": [
    "sz_air_iso = Reconted_comp7.compute_isovalue(sz_air_reconted[37],290)"
   ]
  },
  {
   "cell_type": "code",
   "execution_count": null,
   "metadata": {},
   "outputs": [],
   "source": [
    "import matplotlib.pyplot as plt\n",
    "import matplotlib\n",
    "fig = plt.figure(figsize = (30,5))\n",
    "vmin = np.min(air_raw_iso)\n",
    "vmax = np.max(air_raw_iso)\n",
    "norm = matplotlib.colors.Normalize(vmin = vmin, vmax = vmax)\n",
    "plt.subplot(1,4,1)\n",
    "rawplot = plt.imshow(air_raw_iso,cmap='coolwarm' , norm = norm, origin='lower')\n",
    "plt.title('Raw')\n",
    "# p1 = plt.colorbar(rawplot)\n",
    "\n",
    "# plt.subplot(1,4,2)\n",
    "# slic4_plot = plt.imshow(sz_air_iso, cmap='coolwarm', norm = norm, origin='lower')\n",
    "# plt.title('sz')\n",
    "# # p2 = plt.colorbar(slic4_plot)\n",
    "\n",
    "# plt.subplot(1,4,3)\n",
    "# slic8_plot = plt.imshow(inter_iso, cmap='coolwarm', norm = norm,origin='lower')\n",
    "# plt.title('inter')\n",
    "# p3 = plt.colorbar(slic8_plot)\n",
    "\n",
    "# plt.subplot(1,4,4)\n",
    "# slic64_plot = plt.imshow(airtemp_7_50_time_1_iso, cmap='coolwarm', norm = norm, origin='lower')\n",
    "# plt.title('SLIC comp 12')\n",
    "# # p3 = plt.colorbar(slic64_plot)\n",
    "\n",
    "plt.show()\n",
    "\n"
   ]
  },
  {
   "cell_type": "code",
   "execution_count": 48,
   "metadata": {},
   "outputs": [],
   "source": [
    "nyx_raw_data = np.load('nyx_density_32cube_ensemble64_timestep200.npy')\n",
    "max = nyx_raw_data.max()\n",
    "min = nyx_raw_data.min()\n",
    "\n",
    "raw_hist = np.zeros((32,32,32,128))\n",
    "for i in range(32):\n",
    "    for j in range(32):\n",
    "        for k in range(32):\n",
    "            hist = np.histogram(nyx_raw_data[i,j,k,64:128], 128, range=(min, max))\n",
    "            histprob = np.array(hist[0]/64)\n",
    "            raw_hist[i,j,k] = histprob"
   ]
  },
  {
   "cell_type": "code",
   "execution_count": 11,
   "metadata": {},
   "outputs": [],
   "source": [
    "nyx_raw_reconted = np.fromfile('nyx_32cube_raw_reonted_200_32_32_32_128.bin', dtype='float32').reshape((200,32,32,32,128))"
   ]
  },
  {
   "cell_type": "code",
   "execution_count": 12,
   "metadata": {},
   "outputs": [],
   "source": [
    "nyx_path_1_200 = 'C:\\\\Users\\\\User\\\\Desktop\\\\master thesis\\\\Experiment\\\\Tgmm_slic\\\\Nyx_density\\\\32CUBE\\\\comp1_Slice_time(200)\\\\'\n",
    "edge_nyx_1_200 = np.fromfile(nyx_path_1_200+'nyx_density_32cube_ensemble64_timestep200_comp1_edge_numOfBins_128_.bin', dtype=np.float32)\n",
    "model_nyx_1_200 = np.fromfile(nyx_path_1_200+'nyx_density_32cube_ensemble64_timestep200_comp1_Gmm_data_Slic0_0_x3_y58764.bin', dtype=np.float32).reshape((3,58764))\n",
    "label_nyx_1_200 = np.fromfile(nyx_path_1_200+'nyx_density_32cube_ensemble64_timestep200_comp1_Gmm_label.bin', dtype=np.float32)\n",
    "bin_data_nyx_1_200 = np.fromfile(nyx_path_1_200+'nyx_density_32cube_ensemble64_timestep200_comp1_Tgmm_Slic_0_0_bin_data_x32_y32_z128_4.bin', dtype=np.float32).reshape((32,32,32,128,4))\n",
    "Reconted_nyx_1_200 = reconstruct(edge_nyx_1_200, bin_data_nyx_1_200, model_nyx_1_200, label_nyx_1_200)\n",
    "reconted_nyx_data_1_200 = Reconted_nyx_1_200.all_reconstruct(200)\n",
    "# iso_nyx_1 = Reconted_nyx_1.compute_isovalue(10e9)"
   ]
  },
  {
   "cell_type": "code",
   "execution_count": 13,
   "metadata": {},
   "outputs": [],
   "source": [
    "nyx_path_3_200 = 'C:\\\\Users\\\\User\\\\Desktop\\\\master thesis\\\\Experiment\\\\Tgmm_slic\\\\Nyx_density\\\\32CUBE\\\\comp3_Slice_time(200)\\\\'\n",
    "edge_nyx_3_200 = np.fromfile(nyx_path_3_200+'nyx_density_32cube_ensemble64_timestep200_comp3_edge_numOfBins_128_.bin', dtype=np.float32)\n",
    "model_nyx_3_200 = np.fromfile(nyx_path_3_200+'nyx_density_32cube_ensemble64_timestep200_comp3_Gmm_data_Slic0_0_x3_y175561.bin', dtype=np.float32).reshape((3,175561))\n",
    "label_nyx_3_200 = np.fromfile(nyx_path_3_200+'nyx_density_32cube_ensemble64_timestep200_comp3_Gmm_label.bin', dtype=np.float32)\n",
    "bin_data_nyx_3_200 = np.fromfile(nyx_path_3_200+'nyx_density_32cube_ensemble64_timestep200_comp3_Tgmm_Slic_0_0_bin_data_x32_y32_z128_4.bin', dtype=np.float32).reshape((32,32,32,128,4))\n",
    "Reconted_nyx_3_200 = reconstruct(edge_nyx_3_200, bin_data_nyx_3_200, model_nyx_3_200, label_nyx_3_200)\n",
    "reconted_nyx_data_3_200 = Reconted_nyx_3_200.all_reconstruct(200)"
   ]
  },
  {
   "cell_type": "code",
   "execution_count": 14,
   "metadata": {},
   "outputs": [],
   "source": [
    "nyx_path_5_200 = 'C:\\\\Users\\\\User\\\\Desktop\\\\master thesis\\\\Experiment\\\\Tgmm_slic\\\\Nyx_density\\\\32CUBE\\\\comp5_Slice_time(200)\\\\'\n",
    "edge_nyx_5_200 = np.fromfile(nyx_path_5_200+'nyx_density_32cube_ensemble64_timestep200_comp5_edge_numOfBins_128_.bin', dtype=np.float32)\n",
    "model_nyx_5_200 = np.fromfile(nyx_path_5_200+'nyx_density_32cube_ensemble64_timestep200_comp5_Gmm_data_Slic0_0_x3_y289488.bin', dtype=np.float32).reshape((3,289488))\n",
    "label_nyx_5_200 = np.fromfile(nyx_path_5_200+'nyx_density_32cube_ensemble64_timestep200_comp5_Gmm_label.bin', dtype=np.float32)\n",
    "bin_data_nyx_5_200 = np.fromfile(nyx_path_5_200+'nyx_density_32cube_ensemble64_timestep200_comp5_Tgmm_Slic_0_0_bin_data_x32_y32_z128_4.bin', dtype=np.float32).reshape((32,32,32,128,4))\n",
    "Reconted_nyx_5_200 = reconstruct(edge_nyx_5_200, bin_data_nyx_5_200, model_nyx_5_200, label_nyx_5_200)\n",
    "reconted_nyx_data_5_200 = Reconted_nyx_5_200.all_reconstruct(200)"
   ]
  },
  {
   "cell_type": "code",
   "execution_count": null,
   "metadata": {},
   "outputs": [],
   "source": [
    "nyx_comp1_error = np.zeros(200)\n",
    "nyx_comp3_error = np.zeros(200)\n",
    "nyx_comp5_error = np.zeros(200)\n",
    "for i in range(200):\n",
    "    nyx_comp1_error[i] = compute_error(reconted_nyx_data_1_200[:,:,:,:,i], nyx_raw_reconted[i])\n",
    "    nyx_comp3_error[i] = compute_error(reconted_nyx_data_3_200[:,:,:,:,i], nyx_raw_reconted[i])\n",
    "    nyx_comp5_error[i] = compute_error(reconted_nyx_data_5_200[:,:,:,:,i], nyx_raw_reconted[i])\n",
    "    \n",
    "print('nyx comp1 error:', np.sum(nyx_comp1_error)/200)\n",
    "print('nyx comp3 error:', np.sum(nyx_comp3_error)/200)\n",
    "print('nyx comp5 error:', np.sum(nyx_comp5_error)/200)"
   ]
  },
  {
   "cell_type": "code",
   "execution_count": 68,
   "metadata": {},
   "outputs": [
    {
     "name": "stdout",
     "output_type": "stream",
     "text": [
      "nyx comp1 error: 0.05060613467648668\n",
      "nyx comp3 error: 0.031217406924893075\n",
      "nyx comp5 error: 0.030116027192903082\n"
     ]
    }
   ],
   "source": [
    "nyx_comp1_error = np.zeros(200)\n",
    "nyx_comp3_error = np.zeros(200)\n",
    "nyx_comp5_error = np.zeros(200)\n",
    "for i in range(200):\n",
    "    nyx_comp1_error[i] = compute_error(reconted_nyx_data_1_200[:,:,:,:,i], nyx_raw_reconted[i])\n",
    "    nyx_comp3_error[i] = compute_error(reconted_nyx_data_3_200[:,:,:,:,i], nyx_raw_reconted[i])\n",
    "    nyx_comp5_error[i] = compute_error(reconted_nyx_data_5_200[:,:,:,:,i], nyx_raw_reconted[i])\n",
    "    \n",
    "nyx_comp1_error.astype('float32').tofile('Nyx_32cube_comp1_time200_error.bin')\n",
    "nyx_comp3_error.astype('float32').tofile('Nyx_32cube_comp3_time200_error.bin')\n",
    "nyx_comp5_error.astype('float32').tofile('Nyx_32cube_comp5_time200_error.bin')\n",
    "print('nyx comp1 error:', np.sum(nyx_comp1_error)/200)\n",
    "print('nyx comp3 error:', np.sum(nyx_comp3_error)/200)\n",
    "print('nyx comp5 error:', np.sum(nyx_comp5_error)/200)\n"
   ]
  },
  {
   "cell_type": "code",
   "execution_count": 63,
   "metadata": {},
   "outputs": [],
   "source": [
    "nyx_path_1_0_99 = 'C:\\\\Users\\\\User\\\\Desktop\\\\master thesis\\\\Experiment\\\\Tgmm_slic\\\\Nyx_density\\\\32CUBE\\\\comp1_Slice_time(100)\\\\0-99\\\\'\n",
    "edge_nyx_1_0_99 = np.fromfile(nyx_path_1_0_99+'nyx_density_32cube_ensemble64_timestep_0-99.npy_comp1_edge_numOfBins_128_.bin', dtype=np.float32)\n",
    "model_nyx_1_0_99 = np.fromfile(nyx_path_1_0_99+'nyx_density_32cube_ensemble64_timestep_0-99.npy_comp1_Gmm_data_Slic0_0_x3_y41792.bin', dtype=np.float32).reshape((3,41792))\n",
    "label_nyx_1_0_99 = np.fromfile(nyx_path_1_0_99+'nyx_density_32cube_ensemble64_timestep_0-99.npy_comp1_Gmm_label.bin', dtype=np.float32)\n",
    "bin_data_nyx_1_0_99 = np.fromfile(nyx_path_1_0_99+'nyx_density_32cube_ensemble64_timestep_0-99.npy_comp1_Tgmm_Slic_0_0_bin_data_x32_y32_z128_4.bin', dtype=np.float32).reshape((32,32,32,128,4))\n",
    "Reconted_nyx_1_0_99 = reconstruct(edge_nyx_1_0_99, bin_data_nyx_1_0_99, model_nyx_1_0_99, label_nyx_1_0_99)\n",
    "reconted_nyx_data_1_0_99 = Reconted_nyx_1_0_99.all_reconstruct(100)\n",
    "\n",
    "nyx_path_1_100_199 = 'C:\\\\Users\\\\User\\\\Desktop\\\\master thesis\\\\Experiment\\\\Tgmm_slic\\\\Nyx_density\\\\32CUBE\\\\comp1_Slice_time(100)\\\\100-199\\\\'\n",
    "edge_nyx_1_100_199 = np.fromfile(nyx_path_1_100_199+'nyx_density_32cube_ensemble64_timestep_100-199.npy_comp1_edge_numOfBins_128_.bin', dtype=np.float32)\n",
    "model_nyx_1_100_199 = np.fromfile(nyx_path_1_100_199+'nyx_density_32cube_ensemble64_timestep_100-199.npy_comp1_Gmm_data_Slic0_0_x3_y22456.bin', dtype=np.float32).reshape((3,22456))\n",
    "label_nyx_1_100_199 = np.fromfile(nyx_path_1_100_199+'nyx_density_32cube_ensemble64_timestep_100-199.npy_comp1_Gmm_label.bin', dtype=np.float32)\n",
    "bin_data_nyx_1_100_199 = np.fromfile(nyx_path_1_100_199+'nyx_density_32cube_ensemble64_timestep_100-199.npy_comp1_Tgmm_Slic_0_0_bin_data_x32_y32_z128_4.bin', dtype=np.float32).reshape((32,32,32,128,4))\n",
    "Reconted_nyx_1_100_199 = reconstruct(edge_nyx_1_100_199, bin_data_nyx_1_100_199, model_nyx_1_100_199, label_nyx_1_100_199)\n",
    "reconted_nyx_data_1_100_199 = Reconted_nyx_1_100_199.all_reconstruct(100)"
   ]
  },
  {
   "cell_type": "code",
   "execution_count": 64,
   "metadata": {},
   "outputs": [],
   "source": [
    "nyx_path_3_0_99 = 'C:\\\\Users\\\\User\\\\Desktop\\\\master thesis\\\\Experiment\\\\Tgmm_slic\\\\Nyx_density\\\\32CUBE\\\\comp3_Slice_time(100)\\\\0-99\\\\'\n",
    "edge_nyx_3_0_99 = np.fromfile(nyx_path_3_0_99+'nyx_density_32cube_ensemble64_timestep_0-99.npy_comp3_edge_numOfBins_128_.bin', dtype=np.float32)\n",
    "model_nyx_3_0_99 = np.fromfile(nyx_path_3_0_99+'nyx_density_32cube_ensemble64_timestep_0-99.npy_comp3_Gmm_data_Slic0_0_x3_y124578.bin', dtype=np.float32).reshape((3,124578))\n",
    "label_nyx_3_0_99 = np.fromfile(nyx_path_3_0_99+'nyx_density_32cube_ensemble64_timestep_0-99.npy_comp3_Gmm_label.bin', dtype=np.float32)\n",
    "bin_data_nyx_3_0_99 = np.fromfile(nyx_path_3_0_99+'nyx_density_32cube_ensemble64_timestep_0-99.npy_comp3_Tgmm_Slic_0_0_bin_data_x32_y32_z128_4.bin', dtype=np.float32).reshape((32,32,32,128,4))\n",
    "Reconted_nyx_3_0_99 = reconstruct(edge_nyx_3_0_99, bin_data_nyx_3_0_99, model_nyx_3_0_99, label_nyx_3_0_99)\n",
    "reconted_nyx_data_3_0_99 = Reconted_nyx_3_0_99.all_reconstruct(100)\n",
    "\n",
    "nyx_path_3_100_199 = 'C:\\\\Users\\\\User\\\\Desktop\\\\master thesis\\\\Experiment\\\\Tgmm_slic\\\\Nyx_density\\\\32CUBE\\\\comp3_Slice_time(100)\\\\100-199\\\\'\n",
    "edge_nyx_3_100_199 = np.fromfile(nyx_path_3_100_199+'nyx_density_32cube_ensemble64_timestep_100-199.npy_comp3_edge_numOfBins_128_.bin', dtype=np.float32)\n",
    "model_nyx_3_100_199 = np.fromfile(nyx_path_3_100_199+'nyx_density_32cube_ensemble64_timestep_100-199.npy_comp3_Gmm_data_Slic0_0_x3_y67271.bin', dtype=np.float32).reshape((3,67271))\n",
    "label_nyx_3_100_199 = np.fromfile(nyx_path_3_100_199+'nyx_density_32cube_ensemble64_timestep_100-199.npy_comp3_Gmm_label.bin', dtype=np.float32)\n",
    "bin_data_nyx_3_100_199 = np.fromfile(nyx_path_3_100_199+'nyx_density_32cube_ensemble64_timestep_100-199.npy_comp3_Tgmm_Slic_0_0_bin_data_x32_y32_z128_4.bin', dtype=np.float32).reshape((32,32,32,128,4))\n",
    "Reconted_nyx_3_100_199 = reconstruct(edge_nyx_3_100_199, bin_data_nyx_3_100_199, model_nyx_3_100_199, label_nyx_3_100_199)\n",
    "reconted_nyx_data_3_100_199 = Reconted_nyx_3_100_199.all_reconstruct(100)"
   ]
  },
  {
   "cell_type": "code",
   "execution_count": 65,
   "metadata": {},
   "outputs": [],
   "source": [
    "nyx_path_5_0_99 = 'C:\\\\Users\\\\User\\\\Desktop\\\\master thesis\\\\Experiment\\\\Tgmm_slic\\\\Nyx_density\\\\32CUBE\\\\comp5_Slice_time(100)\\\\0-99\\\\'\n",
    "edge_nyx_5_0_99 = np.fromfile(nyx_path_5_0_99+'nyx_density_32cube_ensemble64_timestep_0-99.npy_comp5_edge_numOfBins_128_.bin', dtype=np.float32)\n",
    "model_nyx_5_0_99 = np.fromfile(nyx_path_5_0_99+'nyx_density_32cube_ensemble64_timestep_0-99.npy_comp5_Gmm_data_Slic0_0_x3_y204393.bin', dtype=np.float32).reshape((3,204393))\n",
    "label_nyx_5_0_99 = np.fromfile(nyx_path_5_0_99+'nyx_density_32cube_ensemble64_timestep_0-99.npy_comp5_Gmm_label.bin', dtype=np.float32)\n",
    "bin_data_nyx_5_0_99 = np.fromfile(nyx_path_5_0_99+'nyx_density_32cube_ensemble64_timestep_0-99.npy_comp5_Tgmm_Slic_0_0_bin_data_x32_y32_z128_4.bin', dtype=np.float32).reshape((32,32,32,128,4))\n",
    "Reconted_nyx_5_0_99 = reconstruct(edge_nyx_5_0_99, bin_data_nyx_5_0_99, model_nyx_5_0_99, label_nyx_5_0_99)\n",
    "reconted_nyx_data_5_0_99 = Reconted_nyx_5_0_99.all_reconstruct(100)\n",
    "\n",
    "nyx_path_5_100_199 = 'C:\\\\Users\\\\User\\\\Desktop\\\\master thesis\\\\Experiment\\\\Tgmm_slic\\\\Nyx_density\\\\32CUBE\\\\comp5_Slice_time(100)\\\\100-199\\\\'\n",
    "edge_nyx_5_100_199 = np.fromfile(nyx_path_5_100_199+'nyx_density_32cube_ensemble64_timestep_100-199.npy_comp5_edge_numOfBins_128_.bin', dtype=np.float32)\n",
    "model_nyx_5_100_199 = np.fromfile(nyx_path_5_100_199+'nyx_density_32cube_ensemble64_timestep_100-199.npy_comp5_Gmm_data_Slic0_0_x3_y111714.bin', dtype=np.float32).reshape((3,111714))\n",
    "label_nyx_5_100_199 = np.fromfile(nyx_path_5_100_199+'nyx_density_32cube_ensemble64_timestep_100-199.npy_comp5_Gmm_label.bin', dtype=np.float32)\n",
    "bin_data_nyx_5_100_199 = np.fromfile(nyx_path_5_100_199+'nyx_density_32cube_ensemble64_timestep_100-199.npy_comp5_Tgmm_Slic_0_0_bin_data_x32_y32_z128_4.bin', dtype=np.float32).reshape((32,32,32,128,4))\n",
    "Reconted_nyx_5_100_199 = reconstruct(edge_nyx_5_100_199, bin_data_nyx_5_100_199, model_nyx_5_100_199, label_nyx_5_100_199)\n",
    "reconted_nyx_data_5_100_199 = Reconted_nyx_5_100_199.all_reconstruct(100)"
   ]
  },
  {
   "cell_type": "code",
   "execution_count": 70,
   "metadata": {},
   "outputs": [
    {
     "name": "stdout",
     "output_type": "stream",
     "text": [
      "nyx_comp1_sliceTime_100_error:  0.04049667377742144\n",
      "nyx_comp3_sliceTime_100_error:  0.030099749769016103\n",
      "nyx_comp5_sliceTime_100_error:  0.0293317680984235\n"
     ]
    }
   ],
   "source": [
    "nyx_comp1_sliceTime_100_error = np.zeros(200)\n",
    "nyx_comp3_sliceTime_100_error = np.zeros(200)\n",
    "nyx_comp5_sliceTime_100_error = np.zeros(200)\n",
    "for i in range(200):\n",
    "    if(i<100):\n",
    "        nyx_comp1_sliceTime_100_error[i] = compute_error(reconted_nyx_data_1_0_99 [:,:,:,:,i], nyx_raw_reconted[i])\n",
    "        nyx_comp3_sliceTime_100_error[i] = compute_error(reconted_nyx_data_3_0_99 [:,:,:,:,i], nyx_raw_reconted[i])\n",
    "        nyx_comp5_sliceTime_100_error[i] = compute_error(reconted_nyx_data_5_0_99 [:,:,:,:,i], nyx_raw_reconted[i])\n",
    "    else:\n",
    "        nyx_comp1_sliceTime_100_error[i] = compute_error(reconted_nyx_data_1_100_199 [:,:,:,:,i-100], nyx_raw_reconted[i])\n",
    "        nyx_comp3_sliceTime_100_error[i] = compute_error(reconted_nyx_data_3_100_199 [:,:,:,:,i-100], nyx_raw_reconted[i])\n",
    "        nyx_comp5_sliceTime_100_error[i] = compute_error(reconted_nyx_data_5_100_199 [:,:,:,:,i-100], nyx_raw_reconted[i])\n",
    "nyx_comp1_sliceTime_100_error.astype('float32').tofile('Nyx_32cube_comp1_time100_error.bin')\n",
    "nyx_comp3_sliceTime_100_error.astype('float32').tofile('Nyx_32cube_comp3_time100_error.bin')\n",
    "nyx_comp5_sliceTime_100_error.astype('float32').tofile('Nyx_32cube_comp5_time100_error.bin')\n",
    "print('nyx_comp1_sliceTime_100_error: ', np.sum(nyx_comp1_sliceTime_100_error)/200)\n",
    "print('nyx_comp3_sliceTime_100_error: ', np.sum(nyx_comp3_sliceTime_100_error)/200)\n",
    "print('nyx_comp5_sliceTime_100_error: ', np.sum(nyx_comp5_sliceTime_100_error)/200)"
   ]
  },
  {
   "cell_type": "code",
   "execution_count": 72,
   "metadata": {},
   "outputs": [],
   "source": [
    "nyx_path_1_0_49 = 'C:\\\\Users\\\\User\\\\Desktop\\\\master thesis\\\\Experiment\\\\Tgmm_slic\\\\Nyx_density\\\\32CUBE\\\\comp1_Slice_time(50)\\\\0-49\\\\'\n",
    "edge_nyx_1_0_49 = np.fromfile(nyx_path_1_0_49+'nyx_density_32cube_ensemble64_timestep_0-49.npy_comp1_edge_numOfBins_128_.bin', dtype=np.float32)\n",
    "model_nyx_1_0_49 = np.fromfile(nyx_path_1_0_49+'nyx_density_32cube_ensemble64_timestep_0-49.npy_comp1_Gmm_data_Slic0_0_x3_y33604.bin', dtype=np.float32).reshape((3,33604))\n",
    "label_nyx_1_0_49 = np.fromfile(nyx_path_1_0_49+'nyx_density_32cube_ensemble64_timestep_0-49.npy_comp1_Gmm_label.bin', dtype=np.float32)\n",
    "bin_data_nyx_1_0_49 = np.fromfile(nyx_path_1_0_49+'nyx_density_32cube_ensemble64_timestep_0-49.npy_comp1_Tgmm_Slic_0_0_bin_data_x32_y32_z128_4.bin', dtype=np.float32).reshape((32,32,32,128,4))\n",
    "Reconted_nyx_1_0_49 = reconstruct(edge_nyx_1_0_49, bin_data_nyx_1_0_49, model_nyx_1_0_49, label_nyx_1_0_49)\n",
    "reconted_nyx_data_1_0_49 = Reconted_nyx_1_0_49.all_reconstruct(50)\n",
    "\n",
    "nyx_path_1_50_99 = 'C:\\\\Users\\\\User\\\\Desktop\\\\master thesis\\\\Experiment\\\\Tgmm_slic\\\\Nyx_density\\\\32CUBE\\\\comp1_Slice_time(50)\\\\50-99\\\\'\n",
    "edge_nyx_1_50_99 = np.fromfile(nyx_path_1_50_99+'nyx_density_32cube_ensemble64_timestep_50-99.npy_comp1_edge_numOfBins_128_.bin', dtype=np.float32)\n",
    "model_nyx_1_50_99 = np.fromfile(nyx_path_1_50_99+'nyx_density_32cube_ensemble64_timestep_50-99.npy_comp1_Gmm_data_Slic0_0_x3_y20111.bin', dtype=np.float32).reshape((3,20111))\n",
    "label_nyx_1_50_99 = np.fromfile(nyx_path_1_50_99+'nyx_density_32cube_ensemble64_timestep_50-99.npy_comp1_Gmm_label.bin', dtype=np.float32)\n",
    "bin_data_nyx_1_50_99 = np.fromfile(nyx_path_1_50_99+'nyx_density_32cube_ensemble64_timestep_50-99.npy_comp1_Tgmm_Slic_0_0_bin_data_x32_y32_z128_4.bin', dtype=np.float32).reshape((32,32,32,128,4))\n",
    "Reconted_nyx_1_50_99 = reconstruct(edge_nyx_1_50_99, bin_data_nyx_1_50_99, model_nyx_1_50_99, label_nyx_1_50_99)\n",
    "reconted_nyx_data_1_50_99 = Reconted_nyx_1_50_99.all_reconstruct(50)\n",
    "\n",
    "nyx_path_1_100_149 = 'C:\\\\Users\\\\User\\\\Desktop\\\\master thesis\\\\Experiment\\\\Tgmm_slic\\\\Nyx_density\\\\32CUBE\\\\comp1_Slice_time(50)\\\\100-149\\\\'\n",
    "edge_nyx_1_100_149 = np.fromfile(nyx_path_1_100_149+'nyx_density_32cube_ensemble64_timestep_100-149.npy_comp1_edge_numOfBins_128_.bin', dtype=np.float32)\n",
    "model_nyx_1_100_149 = np.fromfile(nyx_path_1_100_149+'nyx_density_32cube_ensemble64_timestep_100-149.npy_comp1_Gmm_data_Slic0_0_x3_y13954.bin', dtype=np.float32).reshape((3,13954))\n",
    "label_nyx_1_100_149 = np.fromfile(nyx_path_1_100_149+'nyx_density_32cube_ensemble64_timestep_100-149.npy_comp1_Gmm_label.bin', dtype=np.float32)\n",
    "bin_data_nyx_1_100_149 = np.fromfile(nyx_path_1_100_149+'nyx_density_32cube_ensemble64_timestep_100-149.npy_comp1_Tgmm_Slic_0_0_bin_data_x32_y32_z128_4.bin', dtype=np.float32).reshape((32,32,32,128,4))\n",
    "Reconted_nyx_1_100_149 = reconstruct(edge_nyx_1_100_149, bin_data_nyx_1_100_149, model_nyx_1_100_149, label_nyx_1_100_149)\n",
    "reconted_nyx_data_1_100_149 = Reconted_nyx_1_100_149.all_reconstruct(50)\n",
    "\n",
    "nyx_path_1_150_199 = 'C:\\\\Users\\\\User\\\\Desktop\\\\master thesis\\\\Experiment\\\\Tgmm_slic\\\\Nyx_density\\\\32CUBE\\\\comp1_Slice_time(50)\\\\150-199\\\\'\n",
    "edge_nyx_1_150_199 = np.fromfile(nyx_path_1_150_199+'nyx_density_32cube_ensemble64_timestep_150-199.npy_comp1_edge_numOfBins_128_.bin', dtype=np.float32)\n",
    "model_nyx_1_150_199 = np.fromfile(nyx_path_1_150_199+'nyx_density_32cube_ensemble64_timestep_150-199.npy_comp1_Gmm_data_Slic0_0_x3_y12933.bin', dtype=np.float32).reshape((3,12933))\n",
    "label_nyx_1_150_199 = np.fromfile(nyx_path_1_150_199+'nyx_density_32cube_ensemble64_timestep_150-199.npy_comp1_Gmm_label.bin', dtype=np.float32)\n",
    "bin_data_nyx_1_150_199 = np.fromfile(nyx_path_1_150_199+'nyx_density_32cube_ensemble64_timestep_150-199.npy_comp1_Tgmm_Slic_0_0_bin_data_x32_y32_z128_4.bin', dtype=np.float32).reshape((32,32,32,128,4))\n",
    "Reconted_nyx_1_150_199 = reconstruct(edge_nyx_1_150_199, bin_data_nyx_1_150_199, model_nyx_1_150_199, label_nyx_1_150_199)\n",
    "reconted_nyx_data_1_150_199 = Reconted_nyx_1_150_199.all_reconstruct(50)"
   ]
  },
  {
   "cell_type": "code",
   "execution_count": 73,
   "metadata": {},
   "outputs": [],
   "source": [
    "nyx_path_3_0_49 = 'C:\\\\Users\\\\User\\\\Desktop\\\\master thesis\\\\Experiment\\\\Tgmm_slic\\\\Nyx_density\\\\32CUBE\\\\comp3_Slice_time(50)\\\\0-49\\\\'\n",
    "edge_nyx_3_0_49 = np.fromfile(nyx_path_3_0_49+'nyx_density_32cube_ensemble64_timestep_0-49.npy_comp3_edge_numOfBins_128_.bin', dtype=np.float32)\n",
    "model_nyx_3_0_49 = np.fromfile(nyx_path_3_0_49+'nyx_density_32cube_ensemble64_timestep_0-49.npy_comp3_Gmm_data_Slic0_0_x3_y100023.bin', dtype=np.float32).reshape((3,100023))\n",
    "label_nyx_3_0_49 = np.fromfile(nyx_path_3_0_49+'nyx_density_32cube_ensemble64_timestep_0-49.npy_comp3_Gmm_label.bin', dtype=np.float32)\n",
    "bin_data_nyx_3_0_49 = np.fromfile(nyx_path_3_0_49+'nyx_density_32cube_ensemble64_timestep_0-49.npy_comp3_Tgmm_Slic_0_0_bin_data_x32_y32_z128_4.bin', dtype=np.float32).reshape((32,32,32,128,4))\n",
    "Reconted_nyx_3_0_49 = reconstruct(edge_nyx_3_0_49, bin_data_nyx_3_0_49, model_nyx_3_0_49, label_nyx_3_0_49)\n",
    "reconted_nyx_data_3_0_49 = Reconted_nyx_3_0_49.all_reconstruct(50)\n",
    "\n",
    "nyx_path_3_50_99 = 'C:\\\\Users\\\\User\\\\Desktop\\\\master thesis\\\\Experiment\\\\Tgmm_slic\\\\Nyx_density\\\\32CUBE\\\\comp3_Slice_time(50)\\\\50-99\\\\'\n",
    "edge_nyx_3_50_99 = np.fromfile(nyx_path_3_50_99+'nyx_density_32cube_ensemble64_timestep_50-99.npy_comp3_edge_numOfBins_128_.bin', dtype=np.float32)\n",
    "model_nyx_3_50_99 = np.fromfile(nyx_path_3_50_99+'nyx_density_32cube_ensemble64_timestep_50-99.npy_comp3_Gmm_data_Slic0_0_x3_y60115.bin', dtype=np.float32).reshape((3,60115))\n",
    "label_nyx_3_50_99 = np.fromfile(nyx_path_3_50_99+'nyx_density_32cube_ensemble64_timestep_50-99.npy_comp3_Gmm_label.bin', dtype=np.float32)\n",
    "bin_data_nyx_3_50_99 = np.fromfile(nyx_path_3_50_99+'nyx_density_32cube_ensemble64_timestep_50-99.npy_comp3_Tgmm_Slic_0_0_bin_data_x32_y32_z128_4.bin', dtype=np.float32).reshape((32,32,32,128,4))\n",
    "Reconted_nyx_3_50_99 = reconstruct(edge_nyx_3_50_99, bin_data_nyx_3_50_99, model_nyx_3_50_99, label_nyx_3_50_99)\n",
    "reconted_nyx_data_3_50_99 = Reconted_nyx_3_50_99.all_reconstruct(50)\n",
    "\n",
    "nyx_path_3_100_149 = 'C:\\\\Users\\\\User\\\\Desktop\\\\master thesis\\\\Experiment\\\\Tgmm_slic\\\\Nyx_density\\\\32CUBE\\\\comp3_Slice_time(50)\\\\100-149\\\\'\n",
    "edge_nyx_3_100_149 = np.fromfile(nyx_path_3_100_149+'nyx_density_32cube_ensemble64_timestep_100-149.npy_comp3_edge_numOfBins_128_.bin', dtype=np.float32)\n",
    "model_nyx_3_100_149 = np.fromfile(nyx_path_3_100_149+'nyx_density_32cube_ensemble64_timestep_100-149.npy_comp3_Gmm_data_Slic0_0_x3_y41753.bin', dtype=np.float32).reshape((3,41753))\n",
    "label_nyx_3_100_149 = np.fromfile(nyx_path_3_100_149+'nyx_density_32cube_ensemble64_timestep_100-149.npy_comp3_Gmm_label.bin', dtype=np.float32)\n",
    "bin_data_nyx_3_100_149 = np.fromfile(nyx_path_3_100_149+'nyx_density_32cube_ensemble64_timestep_100-149.npy_comp3_Tgmm_Slic_0_0_bin_data_x32_y32_z128_4.bin', dtype=np.float32).reshape((32,32,32,128,4))\n",
    "Reconted_nyx_3_100_149 = reconstruct(edge_nyx_3_100_149, bin_data_nyx_3_100_149, model_nyx_3_100_149, label_nyx_3_100_149)\n",
    "reconted_nyx_data_3_100_149 = Reconted_nyx_3_100_149.all_reconstruct(50)\n",
    "\n",
    "nyx_path_3_150_199 = 'C:\\\\Users\\\\User\\\\Desktop\\\\master thesis\\\\Experiment\\\\Tgmm_slic\\\\Nyx_density\\\\32CUBE\\\\comp3_Slice_time(50)\\\\150-199\\\\'\n",
    "edge_nyx_3_150_199 = np.fromfile(nyx_path_3_150_199+'nyx_density_32cube_ensemble64_timestep_150-199.npy_comp3_edge_numOfBins_128_.bin', dtype=np.float32)\n",
    "model_nyx_3_150_199 = np.fromfile(nyx_path_3_150_199+'nyx_density_32cube_ensemble64_timestep_150-199.npy_comp3_Gmm_data_Slic0_0_x3_y38721.bin', dtype=np.float32).reshape((3,38721))\n",
    "label_nyx_3_150_199 = np.fromfile(nyx_path_3_150_199+'nyx_density_32cube_ensemble64_timestep_150-199.npy_comp3_Gmm_label.bin', dtype=np.float32)\n",
    "bin_data_nyx_3_150_199 = np.fromfile(nyx_path_3_150_199+'nyx_density_32cube_ensemble64_timestep_150-199.npy_comp3_Tgmm_Slic_0_0_bin_data_x32_y32_z128_4.bin', dtype=np.float32).reshape((32,32,32,128,4))\n",
    "Reconted_nyx_3_150_199 = reconstruct(edge_nyx_3_150_199, bin_data_nyx_3_150_199, model_nyx_3_150_199, label_nyx_3_150_199)\n",
    "reconted_nyx_data_3_150_199 = Reconted_nyx_3_150_199.all_reconstruct(50)"
   ]
  },
  {
   "cell_type": "code",
   "execution_count": 187,
   "metadata": {},
   "outputs": [],
   "source": [
    "nyx_path_5_0_49 = 'C:\\\\Users\\\\User\\\\Desktop\\\\master thesis\\\\Experiment\\\\Tgmm_slic\\\\Nyx_density\\\\32CUBE\\\\comp5_Slice_time(50)\\\\0-49\\\\'\n",
    "edge_nyx_5_0_49 = np.fromfile(nyx_path_5_0_49+'nyx_density_32cube_ensemble64_timestep_0-49.npy_comp5_edge_numOfBins_128_.bin', dtype=np.float32)\n",
    "model_nyx_5_0_49 = np.fromfile(nyx_path_5_0_49+'nyx_density_32cube_ensemble64_timestep_0-49.npy_comp5_Gmm_data_Slic0_0_x3_y163599.bin', dtype=np.float32).reshape((3,163599))\n",
    "label_nyx_5_0_49 = np.fromfile(nyx_path_5_0_49+'nyx_density_32cube_ensemble64_timestep_0-49.npy_comp5_Gmm_label.bin', dtype=np.float32)\n",
    "bin_data_nyx_5_0_49 = np.fromfile(nyx_path_5_0_49+'nyx_density_32cube_ensemble64_timestep_0-49.npy_comp5_Tgmm_Slic_0_0_bin_data_x32_y32_z128_4.bin', dtype=np.float32).reshape((32,32,32,128,4))\n",
    "Reconted_nyx_5_0_49 = reconstruct(edge_nyx_5_0_49, bin_data_nyx_5_0_49, model_nyx_5_0_49, label_nyx_5_0_49)\n",
    "reconted_nyx_data_5_0_49 = Reconted_nyx_5_0_49.all_reconstruct(50)\n",
    "\n",
    "nyx_path_5_50_99 = 'C:\\\\Users\\\\User\\\\Desktop\\\\master thesis\\\\Experiment\\\\Tgmm_slic\\\\Nyx_density\\\\32CUBE\\\\comp5_Slice_time(50)\\\\50-99\\\\'\n",
    "edge_nyx_5_50_99 = np.fromfile(nyx_path_5_50_99+'nyx_density_32cube_ensemble64_timestep_50-99.npy_comp5_edge_numOfBins_128_.bin', dtype=np.float32)\n",
    "model_nyx_5_50_99 = np.fromfile(nyx_path_5_50_99+'nyx_density_32cube_ensemble64_timestep_50-99.npy_comp5_Gmm_data_Slic0_0_x3_y99339.bin', dtype=np.float32).reshape((3,99339))\n",
    "label_nyx_5_50_99 = np.fromfile(nyx_path_5_50_99+'nyx_density_32cube_ensemble64_timestep_50-99.npy_comp5_Gmm_label.bin', dtype=np.float32)\n",
    "bin_data_nyx_5_50_99 = np.fromfile(nyx_path_5_50_99+'nyx_density_32cube_ensemble64_timestep_50-99.npy_comp5_Tgmm_Slic_0_0_bin_data_x32_y32_z128_4.bin', dtype=np.float32).reshape((32,32,32,128,4))\n",
    "Reconted_nyx_5_50_99 = reconstruct(edge_nyx_5_50_99, bin_data_nyx_5_50_99, model_nyx_5_50_99, label_nyx_5_50_99)\n",
    "reconted_nyx_data_5_50_99 = Reconted_nyx_5_50_99.all_reconstruct(50)\n",
    "\n",
    "nyx_path_5_100_149 = 'C:\\\\Users\\\\User\\\\Desktop\\\\master thesis\\\\Experiment\\\\Tgmm_slic\\\\Nyx_density\\\\32CUBE\\\\comp5_Slice_time(50)\\\\100-149\\\\'\n",
    "edge_nyx_5_100_149 = np.fromfile(nyx_path_5_100_149+'nyx_density_32cube_ensemble64_timestep_100-149.npy_comp5_edge_numOfBins_128_.bin', dtype=np.float32)\n",
    "model_nyx_5_100_149 = np.fromfile(nyx_path_5_100_149+'nyx_density_32cube_ensemble64_timestep_100-149.npy_comp5_Gmm_data_Slic0_0_x3_y69173.bin', dtype=np.float32).reshape((3,69173))\n",
    "label_nyx_5_100_149 = np.fromfile(nyx_path_5_100_149+'nyx_density_32cube_ensemble64_timestep_100-149.npy_comp5_Gmm_label.bin', dtype=np.float32)\n",
    "bin_data_nyx_5_100_149 = np.fromfile(nyx_path_5_100_149+'nyx_density_32cube_ensemble64_timestep_100-149.npy_comp5_Tgmm_Slic_0_0_bin_data_x32_y32_z128_4.bin', dtype=np.float32).reshape((32,32,32,128,4))\n",
    "Reconted_nyx_5_100_149 = reconstruct(edge_nyx_5_100_149, bin_data_nyx_5_100_149, model_nyx_5_100_149, label_nyx_5_100_149)\n",
    "reconted_nyx_data_5_100_149 = Reconted_nyx_5_100_149.all_reconstruct(50)\n",
    "\n",
    "nyx_path_5_150_199 = 'C:\\\\Users\\\\User\\\\Desktop\\\\master thesis\\\\Experiment\\\\Tgmm_slic\\\\Nyx_density\\\\32CUBE\\\\comp5_Slice_time(50)\\\\150-199\\\\'\n",
    "edge_nyx_5_150_199 = np.fromfile(nyx_path_5_150_199+'nyx_density_32cube_ensemble64_timestep_150-199.npy_comp5_edge_numOfBins_128_.bin', dtype=np.float32)\n",
    "model_nyx_5_150_199 = np.fromfile(nyx_path_5_150_199+'nyx_density_32cube_ensemble64_timestep_150-199.npy_comp5_Gmm_data_Slic0_0_x3_y64171.bin', dtype=np.float32).reshape((3,64171))\n",
    "label_nyx_5_150_199 = np.fromfile(nyx_path_5_150_199+'nyx_density_32cube_ensemble64_timestep_150-199.npy_comp5_Gmm_label.bin', dtype=np.float32)\n",
    "bin_data_nyx_5_150_199 = np.fromfile(nyx_path_5_150_199+'nyx_density_32cube_ensemble64_timestep_150-199.npy_comp5_Tgmm_Slic_0_0_bin_data_x32_y32_z128_4.bin', dtype=np.float32).reshape((32,32,32,128,4))\n",
    "Reconted_nyx_5_150_199 = reconstruct(edge_nyx_5_150_199, bin_data_nyx_5_150_199, model_nyx_5_150_199, label_nyx_5_150_199)\n",
    "reconted_nyx_data_5_150_199 = Reconted_nyx_5_150_199.all_reconstruct(50)"
   ]
  },
  {
   "cell_type": "code",
   "execution_count": 75,
   "metadata": {},
   "outputs": [
    {
     "name": "stdout",
     "output_type": "stream",
     "text": [
      "nyx_comp1_sliceTime_50_error:  0.03025560916988212\n",
      "nyx_comp3_sliceTime_50_error:  0.028578164808359115\n",
      "nyx_comp5_sliceTime_50_error:  0.028011978697231647\n"
     ]
    }
   ],
   "source": [
    "nyx_comp1_sliceTime_50_error = np.zeros(200)\n",
    "nyx_comp3_sliceTime_50_error = np.zeros(200)\n",
    "nyx_comp5_sliceTime_50_error = np.zeros(200)\n",
    "for i in range(200):\n",
    "    if(i<50):\n",
    "        nyx_comp1_sliceTime_50_error[i] = compute_error(reconted_nyx_data_1_0_49[:,:,:,:,i], nyx_raw_reconted[i])\n",
    "        nyx_comp3_sliceTime_50_error[i] = compute_error(reconted_nyx_data_3_0_49[:,:,:,:,i], nyx_raw_reconted[i])\n",
    "        nyx_comp5_sliceTime_50_error[i] = compute_error(reconted_nyx_data_5_0_49[:,:,:,:,i], nyx_raw_reconted[i])\n",
    "    elif(i<100):\n",
    "        nyx_comp1_sliceTime_50_error[i] = compute_error(reconted_nyx_data_1_50_99[:,:,:,:,i-50], nyx_raw_reconted[i])\n",
    "        nyx_comp3_sliceTime_50_error[i] = compute_error(reconted_nyx_data_3_50_99[:,:,:,:,i-50], nyx_raw_reconted[i])\n",
    "        nyx_comp5_sliceTime_50_error[i] = compute_error(reconted_nyx_data_5_50_99[:,:,:,:,i-50], nyx_raw_reconted[i])\n",
    "    elif(i<150):\n",
    "        nyx_comp1_sliceTime_50_error[i] = compute_error(reconted_nyx_data_1_100_149[:,:,:,:,i-100], nyx_raw_reconted[i])\n",
    "        nyx_comp3_sliceTime_50_error[i] = compute_error(reconted_nyx_data_3_100_149[:,:,:,:,i-100], nyx_raw_reconted[i])\n",
    "        nyx_comp5_sliceTime_50_error[i] = compute_error(reconted_nyx_data_5_100_149[:,:,:,:,i-100], nyx_raw_reconted[i])\n",
    "    else:\n",
    "        nyx_comp1_sliceTime_50_error[i] = compute_error(reconted_nyx_data_1_150_199[:,:,:,:,i-150], nyx_raw_reconted[i])\n",
    "        nyx_comp3_sliceTime_50_error[i] = compute_error(reconted_nyx_data_3_150_199[:,:,:,:,i-150], nyx_raw_reconted[i])\n",
    "        nyx_comp5_sliceTime_50_error[i] = compute_error(reconted_nyx_data_5_150_199[:,:,:,:,i-150], nyx_raw_reconted[i])\n",
    "nyx_comp1_sliceTime_50_error.astype('float32').tofile('Nyx_32cube_comp1_time50_error.bin')\n",
    "nyx_comp3_sliceTime_50_error.astype('float32').tofile('Nyx_32cube_comp3_time50_error.bin')\n",
    "nyx_comp5_sliceTime_50_error.astype('float32').tofile('Nyx_32cube_comp5_time50_error.bin')\n",
    "print('nyx_comp1_sliceTime_50_error: ', np.sum(nyx_comp1_sliceTime_50_error)/200)\n",
    "print('nyx_comp3_sliceTime_50_error: ', np.sum(nyx_comp3_sliceTime_50_error)/200)\n",
    "print('nyx_comp5_sliceTime_50_error: ', np.sum(nyx_comp5_sliceTime_50_error)/200)"
   ]
  },
  {
   "cell_type": "code",
   "execution_count": 186,
   "metadata": {},
   "outputs": [],
   "source": [
    "nyx_data = np.load('nyx_density_32cube_ensemble64_timestep200.npy')"
   ]
  },
  {
   "cell_type": "code",
   "execution_count": 189,
   "metadata": {},
   "outputs": [],
   "source": [
    "nyx_raw_reconted = np.fromfile('nyx_32cube_raw_reonted_200_32_32_32_128.bin', dtype='float32').reshape((200,32,32,32,128))"
   ]
  },
  {
   "cell_type": "code",
   "execution_count": 202,
   "metadata": {},
   "outputs": [],
   "source": [
    "nyx_raw_iso = Reconted_nyx_5_50_99.compute_isovalue(nyx_raw_reconted[12],10e9)"
   ]
  },
  {
   "cell_type": "code",
   "execution_count": 217,
   "metadata": {},
   "outputs": [],
   "source": [
    "nyx_raw_iso.astype('float32').tofile('nyx_raw_time_iso10e9.bin')"
   ]
  },
  {
   "cell_type": "code",
   "execution_count": 218,
   "metadata": {},
   "outputs": [],
   "source": [
    "nyx_comp5_50_iso = Reconted_nyx_5_0_49.compute_isovalue(reconted_nyx_data_5_0_49[:,:,:,:,12],10e9)"
   ]
  },
  {
   "cell_type": "code",
   "execution_count": 219,
   "metadata": {},
   "outputs": [],
   "source": [
    "nyx_comp5_50_iso.astype('float32').tofile('nyx_comp5_50_time12_iso10e9.bin')"
   ]
  },
  {
   "cell_type": "code",
   "execution_count": 220,
   "metadata": {},
   "outputs": [
    {
     "name": "stdout",
     "output_type": "stream",
     "text": [
      "error:  0.031615687775990574\n"
     ]
    }
   ],
   "source": [
    "nyx_interp_error = np.zeros(200)\n",
    "for i in range(200):\n",
    "    nyx_interp_error[i] = compute_error(interpolated_hist(nyx_data, 200, 64, 5, i), nyx_raw_reconted[i])\n",
    "    # print(nyx_interp_error)\n",
    "print('error: ', sum(nyx_interp_error)/200)"
   ]
  },
  {
   "cell_type": "code",
   "execution_count": 214,
   "metadata": {},
   "outputs": [],
   "source": [
    "nyx_interp = interpolated_hist(nyx_data,200,64,10,12)\n",
    "inter_iso = Reconted_nyx_5_50_99.compute_isovalue(nyx_interp, 10e9)\n"
   ]
  },
  {
   "cell_type": "code",
   "execution_count": 215,
   "metadata": {},
   "outputs": [],
   "source": [
    "inter_iso.astype('float32').tofile('nyx_interp10_iso10e9.bin')"
   ]
  },
  {
   "cell_type": "code",
   "execution_count": 12,
   "metadata": {},
   "outputs": [],
   "source": [
    "redsea_bin_data = np.fromfile('Redsea_raw_bin_data_count.bin', dtype='float32').reshape((16507488,4))\n",
    "Redsea_reconted_raw = reconstruct_raw_bin(redsea_bin_data, 25, 100, 100, 60, 128, 50)"
   ]
  },
  {
   "cell_type": "code",
   "execution_count": 43,
   "metadata": {},
   "outputs": [],
   "source": [
    "Redsea_reconted_raw[0:30].astype('float32').tofile('Redsea_reconted_raw_time_0_29.bin')\n",
    "Redsea_reconted_raw[30:60].astype('float32').tofile('Redsea_reconted_raw_time_30_59.bin')"
   ]
  },
  {
   "cell_type": "code",
   "execution_count": 12,
   "metadata": {},
   "outputs": [],
   "source": [
    "redsea_path_1_60 = 'C:\\\\Users\\\\User\\\\Desktop\\\\master thesis\\\\Experiment\\\\Tgmm_slic\\\\RedSea\\\\comp1_Slice_time(60)\\\\'\n",
    "edge_redsea_1_60 = np.fromfile(redsea_path_1_60+'RedSea_25_100_100_ensemble50_timestep60_comp1_edge_numOfBins_128_.bin', dtype=np.float32)\n",
    "model_redsea_1_60 = np.fromfile(redsea_path_1_60+'RedSea_25_100_100_ensemble50_timestep60_comp1_Gmm_data_Slic0_0_x3_y43050.bin', dtype=np.float32).reshape((3,43050))\n",
    "label_redsea_1_60 = np.fromfile(redsea_path_1_60+'RedSea_25_100_100_ensemble50_timestep60_comp1_Gmm_label.bin', dtype=np.float32)\n",
    "bin_data_redsea_1_60 = np.fromfile(redsea_path_1_60+'RedSea_25_100_100_ensemble50_timestep60_comp1_Tgmm_Slic_0_0_bin_data_x25_y100_z128_4.bin', dtype=np.float32).reshape((25,100,100,128,4))\n",
    "Reconted_redsea_1_60 = reconstruct(edge_redsea_1_60, bin_data_redsea_1_60, model_redsea_1_60, label_redsea_1_60)\n",
    "reconted_redsea_data_1_60 = Reconted_redsea_1_60.all_reconstruct(60)"
   ]
  },
  {
   "cell_type": "code",
   "execution_count": 300,
   "metadata": {},
   "outputs": [],
   "source": [
    "redsea_path_3_60 = 'C:\\\\Users\\\\User\\\\Desktop\\\\master thesis\\\\Experiment\\\\Tgmm_slic\\\\RedSea\\\\comp3_Slice_time(60)\\\\'\n",
    "edge_redsea_3_60 = np.fromfile(redsea_path_3_60+'RedSea_25_100_100_ensemble50_timestep60_comp3_edge_numOfBins_128_.bin', dtype=np.float32)\n",
    "model_redsea_3_60 = np.fromfile(redsea_path_3_60+'RedSea_25_100_100_ensemble50_timestep60_comp3_Gmm_data_Slic0_0_x3_y127152.bin', dtype=np.float32).reshape((3,127152))\n",
    "label_redsea_3_60 = np.fromfile(redsea_path_3_60+'RedSea_25_100_100_ensemble50_timestep60_comp3_Gmm_label.bin', dtype=np.float32)\n",
    "bin_data_redsea_3_60 = np.fromfile(redsea_path_3_60+'RedSea_25_100_100_ensemble50_timestep60_comp3_Tgmm_Slic_0_0_bin_data_x25_y100_z128_4.bin', dtype=np.float32).reshape((25,100,100,128,4))\n",
    "Reconted_redsea_3_60 = reconstruct(edge_redsea_3_60, bin_data_redsea_3_60, model_redsea_3_60, label_redsea_3_60)\n",
    "reconted_redsea_data_3_60 = Reconted_redsea_3_60.all_reconstruct(60)"
   ]
  },
  {
   "cell_type": "code",
   "execution_count": 301,
   "metadata": {},
   "outputs": [],
   "source": [
    "redsea_path_5_60 = 'C:\\\\Users\\\\User\\\\Desktop\\\\master thesis\\\\Experiment\\\\Tgmm_slic\\\\RedSea\\\\comp5_Slice_time(60)\\\\'\n",
    "edge_redsea_5_60 = np.fromfile(redsea_path_5_60+'RedSea_25_100_100_ensemble50_timestep60_comp5_edge_numOfBins_128_.bin', dtype=np.float32)\n",
    "model_redsea_5_60 = np.fromfile(redsea_path_5_60+'RedSea_25_100_100_ensemble50_timestep60_comp5_Gmm_data_Slic0_0_x3_y204290.bin', dtype=np.float32).reshape((3,204290))\n",
    "label_redsea_5_60 = np.fromfile(redsea_path_5_60+'RedSea_25_100_100_ensemble50_timestep60_comp5_Gmm_label.bin', dtype=np.float32)\n",
    "bin_data_redsea_5_60 = np.fromfile(redsea_path_5_60+'RedSea_25_100_100_ensemble50_timestep60_comp5_Tgmm_Slic_0_0_bin_data_x25_y100_z128_4.bin', dtype=np.float32).reshape((25,100,100,128,4))\n",
    "Reconted_redsea_5_60 = reconstruct(edge_redsea_5_60, bin_data_redsea_5_60, model_redsea_5_60, label_redsea_5_60)\n",
    "reconted_redsea_data_5_60 = Reconted_redsea_5_60.all_reconstruct(60)"
   ]
  },
  {
   "cell_type": "code",
   "execution_count": null,
   "metadata": {},
   "outputs": [],
   "source": [
    "redsea_comp1_error = np.zeros(60)\n",
    "redsea_comp3_error = np.zeros(60)\n",
    "redsea_comp5_error = np.zeros(60)\n",
    "for i in range(60):\n",
    "    print(i)\n",
    "    redsea_comp1_error[i] = compute_error(reconted_redsea_data_1_60[:,:,:,:,i], Redsea_reconted_raw[i])\n",
    "    redsea_comp3_error[i] = compute_error(reconted_redsea_data_3_60[:,:,:,:,i], Redsea_reconted_raw[i])\n",
    "    redsea_comp5_error[i] = compute_error(reconted_redsea_data_5_60[:,:,:,:,i], Redsea_reconted_raw[i])\n",
    "    \n",
    "redsea_comp1_error.astype('float32').tofile('redsea_comp1_time60_error.bin')\n",
    "redsea_comp3_error.astype('float32').tofile('redsea_comp3_time60_error.bin')\n",
    "redsea_comp5_error.astype('float32').tofile('redsea_comp5_time60_error.bin')\n",
    "print('redsea comp1 error:', np.sum(redsea_comp1_error)/60)\n",
    "print('redsea comp3 error:', np.sum(redsea_comp3_error)/60)\n",
    "print('redsea comp5 error:', np.sum(redsea_comp5_error)/60)"
   ]
  },
  {
   "cell_type": "code",
   "execution_count": null,
   "metadata": {},
   "outputs": [],
   "source": [
    "redsea_path_1_60 = 'C:\\\\Users\\\\User\\\\Desktop\\\\master thesis\\\\Experiment\\\\Tgmm_slic\\\\RedSea\\\\comp1_Slice_time(60)\\\\'\n",
    "edge_redsea_1_60 = np.fromfile(redsea_path_1_60+'RedSea_25_100_100_ensemble50_timestep60_comp1_edge_numOfBins_128_.bin', dtype=np.float32)\n",
    "model_redsea_1_60 = np.fromfile(redsea_path_1_60+'RedSea_25_100_100_ensemble50_timestep60_comp1_Gmm_data_Slic0_0_x3_y22324.bin', dtype=np.float32).reshape((3,22324))\n",
    "label_redsea_1_60 = np.fromfile(redsea_path_1_60+'RedSea_25_100_100_ensemble50_timestep60_comp1_Gmm_label.bin', dtype=np.float32)\n",
    "bin_data_redsea_1_60 = np.fromfile(redsea_path_1_60+'RedSea_25_100_100_ensemble50_timestep60_comp1_Tgmm_Slic_0_0_bin_data_x25_y100_z128_4.bin', dtype=np.float32).reshape((25,100,100,128,4))\n",
    "Reconted_redsea_1_60 = reconstruct(edge_redsea_1_60, bin_data_redsea_1_60, model_redsea_1_60, label_redsea_1_60)\n",
    "reconted_redsea_data_1_60 = Reconted_redsea_1_60.all_reconstruct(60)"
   ]
  },
  {
   "cell_type": "code",
   "execution_count": 13,
   "metadata": {},
   "outputs": [],
   "source": [
    "redsea_raw = np.fromfile('adjust_RedSea_raw_reconted_60_25_100_100_128.bin',dtype='float32').reshape((60,25,100,100,128))"
   ]
  },
  {
   "cell_type": "code",
   "execution_count": 61,
   "metadata": {},
   "outputs": [],
   "source": [
    "raw_iso = Reconted_redsea_1_60.compute_isovalue(redsea_raw[1],44.882812)"
   ]
  },
  {
   "cell_type": "code",
   "execution_count": 62,
   "metadata": {},
   "outputs": [],
   "source": [
    "raw_iso.astype('float32').tofile('rediso.bin')"
   ]
  },
  {
   "cell_type": "code",
   "execution_count": 2,
   "metadata": {},
   "outputs": [],
   "source": [
    "redsea_path_1_60 = 'C:\\\\Users\\\\User\\\\Desktop\\\\master thesis\\\\Experiment\\\\Tgmm_slic\\\\RedSea\\\\comp1_Slice_time(60)\\\\'\n",
    "edge_redsea_1_60 = np.fromfile(redsea_path_1_60+'RedSea_25_100_100_ensemble50_timestep60_comp1_edge_numOfBins_128_.bin', dtype=np.float32)"
   ]
  },
  {
   "cell_type": "code",
   "execution_count": 63,
   "metadata": {},
   "outputs": [
    {
     "data": {
      "text/plain": [
       "44.882812"
      ]
     },
     "execution_count": 63,
     "metadata": {},
     "output_type": "execute_result"
    }
   ],
   "source": [
    "edge_redsea_1_60[127]"
   ]
  },
  {
   "cell_type": "code",
   "execution_count": 53,
   "metadata": {},
   "outputs": [
    {
     "data": {
      "text/plain": [
       "array([0.  , 0.  , 0.  , 0.  , 0.  , 0.  , 0.  , 0.  , 0.  , 0.  , 0.  ,\n",
       "       0.  , 0.  , 0.  , 0.  , 0.  , 0.  , 0.  , 0.  , 0.  , 0.  , 0.  ,\n",
       "       0.  , 0.  , 0.  , 0.  , 0.  , 0.  , 0.  , 0.  , 0.  , 0.  , 0.  ,\n",
       "       0.  , 0.  , 0.  , 0.  , 0.  , 0.  , 0.  , 0.  , 0.  , 0.  , 0.  ,\n",
       "       0.  , 0.  , 0.  , 0.  , 0.  , 0.  , 0.  , 0.  , 0.  , 0.  , 0.  ,\n",
       "       0.  , 0.  , 0.  , 0.  , 0.  , 0.  , 0.  , 0.  , 0.  , 0.  , 0.  ,\n",
       "       0.  , 0.  , 0.  , 0.  , 0.  , 0.  , 0.  , 0.  , 0.  , 0.16, 0.14,\n",
       "       0.28, 0.16, 0.16, 0.06, 0.02, 0.  , 0.02, 0.  , 0.  , 0.  , 0.  ,\n",
       "       0.  , 0.  , 0.  , 0.  , 0.  , 0.  , 0.  , 0.  , 0.  , 0.  , 0.  ,\n",
       "       0.  , 0.  , 0.  , 0.  , 0.  , 0.  , 0.  , 0.  , 0.  , 0.  , 0.  ,\n",
       "       0.  , 0.  , 0.  , 0.  , 0.  , 0.  , 0.  , 0.  , 0.  , 0.  , 0.  ,\n",
       "       0.  , 0.  , 0.  , 0.  , 0.  , 0.  , 0.  ], dtype=float32)"
      ]
     },
     "execution_count": 53,
     "metadata": {},
     "output_type": "execute_result"
    }
   ],
   "source": [
    "redsea_raw[0,0,50,50]"
   ]
  },
  {
   "cell_type": "code",
   "execution_count": null,
   "metadata": {},
   "outputs": [],
   "source": []
  }
 ],
 "metadata": {
  "interpreter": {
   "hash": "797dde4d81f7598b75161dc3af3c72e0851d7c9155a7e461083543e66c3c78b3"
  },
  "kernelspec": {
   "display_name": "Python 3.10.4 ('TGMM_3')",
   "language": "python",
   "name": "python3"
  },
  "language_info": {
   "codemirror_mode": {
    "name": "ipython",
    "version": 3
   },
   "file_extension": ".py",
   "mimetype": "text/x-python",
   "name": "python",
   "nbconvert_exporter": "python",
   "pygments_lexer": "ipython3",
   "version": "3.10.4"
  },
  "orig_nbformat": 4
 },
 "nbformat": 4,
 "nbformat_minor": 2
}
